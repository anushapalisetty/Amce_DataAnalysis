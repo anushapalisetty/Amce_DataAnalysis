{
 "cells": [
  {
   "cell_type": "code",
   "execution_count": 1,
   "metadata": {},
   "outputs": [],
   "source": [
    "import pandas as pd\n",
    "import numpy as np\n",
    "import seaborn as sns\n",
    "import matplotlib.pyplot as plt\n",
    "from sklearn.ensemble import AdaBoostRegressor,RandomForestRegressor,GradientBoostingRegressor\n",
    "from sklearn.tree import DecisionTreeRegressor\n",
    "from sklearn.kernel_ridge import KernelRidge\n",
    "from sklearn.svm import SVR,LinearSVR\n",
    "from sklearn.metrics import mean_squared_error,r2_score\n",
    "from sklearn.preprocessing import PolynomialFeatures\n",
    "from sklearn.linear_model import LinearRegression\n",
    "from sklearn.pipeline import Pipeline"
   ]
  },
  {
   "cell_type": "code",
   "execution_count": 2,
   "metadata": {},
   "outputs": [],
   "source": [
    "## Load the trainign data and test data\n",
    "df_train=pd.read_csv(\"../data/training_data.csv\")\n",
    "df_test=pd.read_csv(\"../data/test_data.csv\")"
   ]
  },
  {
   "cell_type": "code",
   "execution_count": 3,
   "metadata": {},
   "outputs": [
    {
     "data": {
      "text/html": [
       "<div>\n",
       "<style scoped>\n",
       "    .dataframe tbody tr th:only-of-type {\n",
       "        vertical-align: middle;\n",
       "    }\n",
       "\n",
       "    .dataframe tbody tr th {\n",
       "        vertical-align: top;\n",
       "    }\n",
       "\n",
       "    .dataframe thead th {\n",
       "        text-align: right;\n",
       "    }\n",
       "</style>\n",
       "<table border=\"1\" class=\"dataframe\">\n",
       "  <thead>\n",
       "    <tr style=\"text-align: right;\">\n",
       "      <th></th>\n",
       "      <th>truckingcompanyid</th>\n",
       "      <th>productid</th>\n",
       "      <th>distanceinmiles</th>\n",
       "      <th>fuelcost</th>\n",
       "      <th>linehaulcost</th>\n",
       "      <th>source</th>\n",
       "      <th>destination</th>\n",
       "    </tr>\n",
       "  </thead>\n",
       "  <tbody>\n",
       "    <tr>\n",
       "      <th>0</th>\n",
       "      <td>9343</td>\n",
       "      <td>2</td>\n",
       "      <td>3600.84</td>\n",
       "      <td>6.17</td>\n",
       "      <td>64.09</td>\n",
       "      <td>34</td>\n",
       "      <td>21</td>\n",
       "    </tr>\n",
       "    <tr>\n",
       "      <th>1</th>\n",
       "      <td>2363</td>\n",
       "      <td>23</td>\n",
       "      <td>1265.16</td>\n",
       "      <td>4.50</td>\n",
       "      <td>628.64</td>\n",
       "      <td>29</td>\n",
       "      <td>42</td>\n",
       "    </tr>\n",
       "    <tr>\n",
       "      <th>2</th>\n",
       "      <td>9634</td>\n",
       "      <td>23</td>\n",
       "      <td>486.60</td>\n",
       "      <td>5.52</td>\n",
       "      <td>351.30</td>\n",
       "      <td>42</td>\n",
       "      <td>6</td>\n",
       "    </tr>\n",
       "    <tr>\n",
       "      <th>3</th>\n",
       "      <td>5243</td>\n",
       "      <td>15</td>\n",
       "      <td>973.20</td>\n",
       "      <td>6.34</td>\n",
       "      <td>57.65</td>\n",
       "      <td>33</td>\n",
       "      <td>4</td>\n",
       "    </tr>\n",
       "    <tr>\n",
       "      <th>4</th>\n",
       "      <td>2149</td>\n",
       "      <td>20</td>\n",
       "      <td>2043.72</td>\n",
       "      <td>5.65</td>\n",
       "      <td>823.44</td>\n",
       "      <td>12</td>\n",
       "      <td>31</td>\n",
       "    </tr>\n",
       "  </tbody>\n",
       "</table>\n",
       "</div>"
      ],
      "text/plain": [
       "   truckingcompanyid  productid  distanceinmiles  fuelcost  linehaulcost  \\\n",
       "0               9343          2          3600.84      6.17         64.09   \n",
       "1               2363         23          1265.16      4.50        628.64   \n",
       "2               9634         23           486.60      5.52        351.30   \n",
       "3               5243         15           973.20      6.34         57.65   \n",
       "4               2149         20          2043.72      5.65        823.44   \n",
       "\n",
       "   source  destination  \n",
       "0      34           21  \n",
       "1      29           42  \n",
       "2      42            6  \n",
       "3      33            4  \n",
       "4      12           31  "
      ]
     },
     "execution_count": 3,
     "metadata": {},
     "output_type": "execute_result"
    }
   ],
   "source": [
    "df_train.head()"
   ]
  },
  {
   "cell_type": "code",
   "execution_count": 4,
   "metadata": {},
   "outputs": [],
   "source": [
    "## Extracting Independent and Dependent features\n",
    "X_columns=['truckingcompanyid','productid','distanceinmiles','fuelcost','source','destination']\n",
    "y_columns=['linehaulcost']\n",
    "\n",
    "## Loading the train and test data\n",
    "X_train=df_train[X_columns]\n",
    "y_train=df_train[y_columns]\n",
    "X_test=df_test[X_columns]\n",
    "y_test=df_test[y_columns]"
   ]
  },
  {
   "cell_type": "markdown",
   "metadata": {},
   "source": [
    "## Implement Regression Models"
   ]
  },
  {
   "cell_type": "code",
   "execution_count": 5,
   "metadata": {},
   "outputs": [],
   "source": [
    "Regressors_1 = [\n",
    "    'KernelRidge','DecisionTreeRegressor', 'RandomForestRegressor','GradientBoostingRegressor','AdaBoostRegressor',\n",
    "    'SVR', 'LinearSVR','PolynomialRegression']"
   ]
  },
  {
   "cell_type": "code",
   "execution_count": 6,
   "metadata": {},
   "outputs": [
    {
     "name": "stderr",
     "output_type": "stream",
     "text": [
      "C:\\Users\\pavan\\anaconda3\\lib\\site-packages\\sklearn\\linear_model\\_ridge.py:190: UserWarning: Singular matrix in solving dual problem. Using least-squares solution instead.\n",
      "  warnings.warn(\"Singular matrix in solving dual problem. Using \"\n"
     ]
    },
    {
     "name": "stdout",
     "output_type": "stream",
     "text": [
      "Wall time: 4min 5s\n"
     ]
    },
    {
     "name": "stderr",
     "output_type": "stream",
     "text": [
      "C:\\Users\\pavan\\anaconda3\\lib\\site-packages\\sklearn\\svm\\_base.py:986: ConvergenceWarning: Liblinear failed to converge, increase the number of iterations.\n",
      "  \"the number of iterations.\", ConvergenceWarning)\n"
     ]
    }
   ],
   "source": [
    "%%time\n",
    "Regressors = [\n",
    "    KernelRidge(kernel='poly'),\n",
    "    DecisionTreeRegressor(max_depth=3),\n",
    "    RandomForestRegressor(n_estimators=5000,max_depth=3),\n",
    "    GradientBoostingRegressor(n_estimators=5000,max_depth=3),\n",
    "    AdaBoostRegressor(n_estimators=5000),\n",
    "    SVR(gamma='auto'), \n",
    "    LinearSVR(),\n",
    "    Pipeline([('poly', PolynomialFeatures(degree=3)),('linear', LinearRegression(fit_intercept=False))])\n",
    "    ]\n",
    "\n",
    "name = []\n",
    "test_score = []\n",
    "models = []\n",
    "test_rmse = []\n",
    "train_rmse=[]\n",
    "train_r2_score=[]\n",
    "test_r2_score=[]\n",
    "regsr=[]\n",
    "i = 0\n",
    "for regressor in Regressors:\n",
    "    regressor.fit(X_train, y_train.linehaulcost)   \n",
    "    name.append(Regressors_1[i] )\n",
    "    train_r2_score.append(r2_score(y_train, regressor.predict(X_train)))\n",
    "    test_r2_score.append(r2_score(y_test, regressor.predict(X_test)))\n",
    "    test_score.append(regressor.score(X_test, y_test))\n",
    "    train_rmse.append(np.sqrt(mean_squared_error(y_train,regressor.predict(X_train))))\n",
    "    test_rmse.append(np.sqrt(mean_squared_error( y_test,regressor.predict(X_test))))\n",
    "    i+=1"
   ]
  },
  {
   "cell_type": "markdown",
   "metadata": {},
   "source": [
    "## Comparing different models"
   ]
  },
  {
   "cell_type": "code",
   "execution_count": 7,
   "metadata": {},
   "outputs": [],
   "source": [
    "scores=pd.DataFrame()\n",
    "scores['name']=name\n",
    "scores['train_r2score']=train_r2_score\n",
    "scores['test_r2_score']=test_r2_score\n",
    "scores['train_rmse']=train_rmse\n",
    "scores['test_rmse']=test_rmse"
   ]
  },
  {
   "cell_type": "code",
   "execution_count": 8,
   "metadata": {},
   "outputs": [
    {
     "data": {
      "text/html": [
       "<div>\n",
       "<style scoped>\n",
       "    .dataframe tbody tr th:only-of-type {\n",
       "        vertical-align: middle;\n",
       "    }\n",
       "\n",
       "    .dataframe tbody tr th {\n",
       "        vertical-align: top;\n",
       "    }\n",
       "\n",
       "    .dataframe thead th {\n",
       "        text-align: right;\n",
       "    }\n",
       "</style>\n",
       "<table border=\"1\" class=\"dataframe\">\n",
       "  <thead>\n",
       "    <tr style=\"text-align: right;\">\n",
       "      <th></th>\n",
       "      <th>name</th>\n",
       "      <th>train_r2score</th>\n",
       "      <th>test_r2_score</th>\n",
       "      <th>train_rmse</th>\n",
       "      <th>test_rmse</th>\n",
       "    </tr>\n",
       "  </thead>\n",
       "  <tbody>\n",
       "    <tr>\n",
       "      <th>0</th>\n",
       "      <td>KernelRidge</td>\n",
       "      <td>0.251759</td>\n",
       "      <td>0.229987</td>\n",
       "      <td>1480.239261</td>\n",
       "      <td>1460.633638</td>\n",
       "    </tr>\n",
       "    <tr>\n",
       "      <th>1</th>\n",
       "      <td>DecisionTreeRegressor</td>\n",
       "      <td>0.515986</td>\n",
       "      <td>0.479908</td>\n",
       "      <td>1190.529032</td>\n",
       "      <td>1200.417740</td>\n",
       "    </tr>\n",
       "    <tr>\n",
       "      <th>2</th>\n",
       "      <td>RandomForestRegressor</td>\n",
       "      <td>0.534007</td>\n",
       "      <td>0.495481</td>\n",
       "      <td>1168.155434</td>\n",
       "      <td>1182.309812</td>\n",
       "    </tr>\n",
       "    <tr>\n",
       "      <th>3</th>\n",
       "      <td>GradientBoostingRegressor</td>\n",
       "      <td>0.977343</td>\n",
       "      <td>0.237870</td>\n",
       "      <td>257.579024</td>\n",
       "      <td>1453.138325</td>\n",
       "    </tr>\n",
       "    <tr>\n",
       "      <th>4</th>\n",
       "      <td>AdaBoostRegressor</td>\n",
       "      <td>0.490885</td>\n",
       "      <td>0.368879</td>\n",
       "      <td>1221.009552</td>\n",
       "      <td>1322.356681</td>\n",
       "    </tr>\n",
       "    <tr>\n",
       "      <th>5</th>\n",
       "      <td>SVR</td>\n",
       "      <td>-0.087536</td>\n",
       "      <td>-0.093927</td>\n",
       "      <td>1784.566964</td>\n",
       "      <td>1740.951209</td>\n",
       "    </tr>\n",
       "    <tr>\n",
       "      <th>6</th>\n",
       "      <td>LinearSVR</td>\n",
       "      <td>0.141602</td>\n",
       "      <td>0.133853</td>\n",
       "      <td>1585.460652</td>\n",
       "      <td>1549.131520</td>\n",
       "    </tr>\n",
       "    <tr>\n",
       "      <th>7</th>\n",
       "      <td>PolynomialRegression</td>\n",
       "      <td>0.394483</td>\n",
       "      <td>0.356548</td>\n",
       "      <td>1331.601393</td>\n",
       "      <td>1335.213077</td>\n",
       "    </tr>\n",
       "  </tbody>\n",
       "</table>\n",
       "</div>"
      ],
      "text/plain": [
       "                        name  train_r2score  test_r2_score   train_rmse  \\\n",
       "0                KernelRidge       0.251759       0.229987  1480.239261   \n",
       "1      DecisionTreeRegressor       0.515986       0.479908  1190.529032   \n",
       "2      RandomForestRegressor       0.534007       0.495481  1168.155434   \n",
       "3  GradientBoostingRegressor       0.977343       0.237870   257.579024   \n",
       "4          AdaBoostRegressor       0.490885       0.368879  1221.009552   \n",
       "5                        SVR      -0.087536      -0.093927  1784.566964   \n",
       "6                  LinearSVR       0.141602       0.133853  1585.460652   \n",
       "7       PolynomialRegression       0.394483       0.356548  1331.601393   \n",
       "\n",
       "     test_rmse  \n",
       "0  1460.633638  \n",
       "1  1200.417740  \n",
       "2  1182.309812  \n",
       "3  1453.138325  \n",
       "4  1322.356681  \n",
       "5  1740.951209  \n",
       "6  1549.131520  \n",
       "7  1335.213077  "
      ]
     },
     "execution_count": 8,
     "metadata": {},
     "output_type": "execute_result"
    }
   ],
   "source": [
    "scores"
   ]
  },
  {
   "cell_type": "code",
   "execution_count": 9,
   "metadata": {},
   "outputs": [
    {
     "name": "stdout",
     "output_type": "stream",
     "text": [
      "1167.6676640994021\n",
      "0.5343963765456108\n",
      "1182.1226192384033\n",
      "0.4956404646226551\n"
     ]
    }
   ],
   "source": [
    "#RF model\n",
    "model_rf = RandomForestRegressor(n_estimators=5000, max_depth=3)\n",
    "model_rf.fit(X_train, y_train.linehaulcost) \n",
    "pred_train_rf= model_rf.predict(X_train)\n",
    "print(np.sqrt(mean_squared_error(y_train.linehaulcost,pred_train_rf)))\n",
    "print(r2_score(y_train.linehaulcost, pred_train_rf))\n",
    "\n",
    "pred_test_rf = model_rf.predict(X_test)\n",
    "print(np.sqrt(mean_squared_error(y_test.linehaulcost,pred_test_rf)))\n",
    "print(r2_score(y_test.linehaulcost, pred_test_rf))"
   ]
  },
  {
   "cell_type": "markdown",
   "metadata": {},
   "source": [
    "## Features Importance"
   ]
  },
  {
   "cell_type": "code",
   "execution_count": 10,
   "metadata": {},
   "outputs": [
    {
     "data": {
      "text/plain": [
       "Index(['truckingcompanyid', 'productid', 'distanceinmiles', 'fuelcost',\n",
       "       'source', 'destination'],\n",
       "      dtype='object')"
      ]
     },
     "execution_count": 10,
     "metadata": {},
     "output_type": "execute_result"
    }
   ],
   "source": [
    "X_train.columns"
   ]
  },
  {
   "cell_type": "code",
   "execution_count": 11,
   "metadata": {},
   "outputs": [
    {
     "data": {
      "text/html": [
       "<div>\n",
       "<style scoped>\n",
       "    .dataframe tbody tr th:only-of-type {\n",
       "        vertical-align: middle;\n",
       "    }\n",
       "\n",
       "    .dataframe tbody tr th {\n",
       "        vertical-align: top;\n",
       "    }\n",
       "\n",
       "    .dataframe thead th {\n",
       "        text-align: right;\n",
       "    }\n",
       "</style>\n",
       "<table border=\"1\" class=\"dataframe\">\n",
       "  <thead>\n",
       "    <tr style=\"text-align: right;\">\n",
       "      <th></th>\n",
       "      <th>Feature</th>\n",
       "      <th>Importance_Value</th>\n",
       "    </tr>\n",
       "  </thead>\n",
       "  <tbody>\n",
       "    <tr>\n",
       "      <th>0</th>\n",
       "      <td>distanceinmiles</td>\n",
       "      <td>0.939694</td>\n",
       "    </tr>\n",
       "    <tr>\n",
       "      <th>1</th>\n",
       "      <td>fuelcost</td>\n",
       "      <td>0.017601</td>\n",
       "    </tr>\n",
       "    <tr>\n",
       "      <th>2</th>\n",
       "      <td>source</td>\n",
       "      <td>0.016010</td>\n",
       "    </tr>\n",
       "    <tr>\n",
       "      <th>3</th>\n",
       "      <td>truckingcompanyid</td>\n",
       "      <td>0.012867</td>\n",
       "    </tr>\n",
       "    <tr>\n",
       "      <th>4</th>\n",
       "      <td>productid</td>\n",
       "      <td>0.011396</td>\n",
       "    </tr>\n",
       "    <tr>\n",
       "      <th>5</th>\n",
       "      <td>destination</td>\n",
       "      <td>0.002433</td>\n",
       "    </tr>\n",
       "  </tbody>\n",
       "</table>\n",
       "</div>"
      ],
      "text/plain": [
       "             Feature  Importance_Value\n",
       "0    distanceinmiles          0.939694\n",
       "1           fuelcost          0.017601\n",
       "2             source          0.016010\n",
       "3  truckingcompanyid          0.012867\n",
       "4          productid          0.011396\n",
       "5        destination          0.002433"
      ]
     },
     "execution_count": 11,
     "metadata": {},
     "output_type": "execute_result"
    }
   ],
   "source": [
    "pd.DataFrame(sorted(zip(X_train.columns,model_rf.feature_importances_)), columns=['Feature','Importance_Value'])\\\n",
    "            .sort_values('Importance_Value',ascending=False).reset_index(drop=True)"
   ]
  },
  {
   "cell_type": "code",
   "execution_count": 14,
   "metadata": {},
   "outputs": [
    {
     "data": {
      "text/plain": [
       "<AxesSubplot:xlabel='distanceinmiles', ylabel='linehaulcost'>"
      ]
     },
     "execution_count": 14,
     "metadata": {},
     "output_type": "execute_result"
    },
    {
     "data": {
      "image/png": "[encoded data removed]",
      "text/plain": [
       "<Figure size 432x288 with 1 Axes>"
      ]
     },
     "metadata": {
      "needs_background": "light"
     },
     "output_type": "display_data"
    }
   ],
   "source": [
    "sns.scatterplot(x='distanceinmiles',y='linehaulcost',data=df_train)"
   ]
  },
  {
   "cell_type": "markdown",
   "metadata": {},
   "source": [
    "## Residual Analysis"
   ]
  },
  {
   "cell_type": "code",
   "execution_count": 12,
   "metadata": {},
   "outputs": [],
   "source": [
    "residuals=y_test.linehaulcost - model_rf.predict(X_test)\n",
    "fitted_values=y_test.linehaulcost"
   ]
  },
  {
   "cell_type": "code",
   "execution_count": 13,
   "metadata": {},
   "outputs": [
    {
     "data": {
      "image/png": "[encoded data removed]",
      "text/plain": [
       "<Figure size 432x288 with 1 Axes>"
      ]
     },
     "metadata": {
      "needs_background": "light"
     },
     "output_type": "display_data"
    }
   ],
   "source": [
    "sns.scatterplot(x=fitted_values,y=residuals)\n",
    "plt.xlabel(\"Fitted Values\")\n",
    "plt.ylabel(\"Residuals\")\n",
    "plt.title(\"Residual Plot Analysis\")\n",
    "plt.show()"
   ]
  },
  {
   "cell_type": "code",
   "execution_count": null,
   "metadata": {},
   "outputs": [],
   "source": []
  }
 ],
 "metadata": {
  "kernelspec": {
   "display_name": "Python 3",
   "language": "python",
   "name": "python3"
  },
  "language_info": {
   "codemirror_mode": {
    "name": "ipython",
    "version": 3
   },
   "file_extension": ".py",
   "mimetype": "text/x-python",
   "name": "python",
   "nbconvert_exporter": "python",
   "pygments_lexer": "ipython3",
   "version": "3.7.6"
  }
 },
 "nbformat": 4,
 "nbformat_minor": 4
}
