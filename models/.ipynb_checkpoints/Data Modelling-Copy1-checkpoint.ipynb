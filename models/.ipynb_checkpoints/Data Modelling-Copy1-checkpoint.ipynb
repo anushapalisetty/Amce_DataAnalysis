{
 "cells": [
  {
   "cell_type": "code",
   "execution_count": 44,
   "metadata": {},
   "outputs": [],
   "source": [
    "import pandas as pd\n",
    "import numpy as np\n",
    "from sklearn.ensemble import AdaBoostRegressor,RandomForestRegressor,GradientBoostingRegressor\n",
    "from sklearn.tree import DecisionTreeRegressor\n",
    "from sklearn.kernel_ridge import KernelRidge\n",
    "from sklearn.svm import SVR,LinearSVR\n",
    "from sklearn.metrics import mean_squared_error,r2_score"
   ]
  },
  {
   "cell_type": "code",
   "execution_count": 45,
   "metadata": {},
   "outputs": [],
   "source": [
    "## Load the trainign data and test data\n",
    "df_train=pd.read_csv(\"../data/training_data.csv\")\n",
    "df_test=pd.read_csv(\"../data/test_data.csv\")"
   ]
  },
  {
   "cell_type": "code",
   "execution_count": 46,
   "metadata": {},
   "outputs": [
    {
     "data": {
      "text/html": [
       "<div>\n",
       "<style scoped>\n",
       "    .dataframe tbody tr th:only-of-type {\n",
       "        vertical-align: middle;\n",
       "    }\n",
       "\n",
       "    .dataframe tbody tr th {\n",
       "        vertical-align: top;\n",
       "    }\n",
       "\n",
       "    .dataframe thead th {\n",
       "        text-align: right;\n",
       "    }\n",
       "</style>\n",
       "<table border=\"1\" class=\"dataframe\">\n",
       "  <thead>\n",
       "    <tr style=\"text-align: right;\">\n",
       "      <th></th>\n",
       "      <th>truckingcompanyid</th>\n",
       "      <th>productid</th>\n",
       "      <th>distanceinmiles</th>\n",
       "      <th>fuelcost</th>\n",
       "      <th>linehaulcost</th>\n",
       "      <th>source</th>\n",
       "      <th>destination</th>\n",
       "    </tr>\n",
       "  </thead>\n",
       "  <tbody>\n",
       "    <tr>\n",
       "      <th>0</th>\n",
       "      <td>9343</td>\n",
       "      <td>2</td>\n",
       "      <td>3600.84</td>\n",
       "      <td>6.17</td>\n",
       "      <td>64.09</td>\n",
       "      <td>34</td>\n",
       "      <td>21</td>\n",
       "    </tr>\n",
       "    <tr>\n",
       "      <th>1</th>\n",
       "      <td>2363</td>\n",
       "      <td>23</td>\n",
       "      <td>1265.16</td>\n",
       "      <td>4.50</td>\n",
       "      <td>628.64</td>\n",
       "      <td>29</td>\n",
       "      <td>42</td>\n",
       "    </tr>\n",
       "    <tr>\n",
       "      <th>2</th>\n",
       "      <td>9634</td>\n",
       "      <td>23</td>\n",
       "      <td>486.60</td>\n",
       "      <td>5.52</td>\n",
       "      <td>351.30</td>\n",
       "      <td>42</td>\n",
       "      <td>6</td>\n",
       "    </tr>\n",
       "    <tr>\n",
       "      <th>3</th>\n",
       "      <td>5243</td>\n",
       "      <td>15</td>\n",
       "      <td>973.20</td>\n",
       "      <td>6.34</td>\n",
       "      <td>57.65</td>\n",
       "      <td>33</td>\n",
       "      <td>4</td>\n",
       "    </tr>\n",
       "    <tr>\n",
       "      <th>4</th>\n",
       "      <td>2149</td>\n",
       "      <td>20</td>\n",
       "      <td>2043.72</td>\n",
       "      <td>5.65</td>\n",
       "      <td>823.44</td>\n",
       "      <td>12</td>\n",
       "      <td>31</td>\n",
       "    </tr>\n",
       "  </tbody>\n",
       "</table>\n",
       "</div>"
      ],
      "text/plain": [
       "   truckingcompanyid  productid  distanceinmiles  fuelcost  linehaulcost  \\\n",
       "0               9343          2          3600.84      6.17         64.09   \n",
       "1               2363         23          1265.16      4.50        628.64   \n",
       "2               9634         23           486.60      5.52        351.30   \n",
       "3               5243         15           973.20      6.34         57.65   \n",
       "4               2149         20          2043.72      5.65        823.44   \n",
       "\n",
       "   source  destination  \n",
       "0      34           21  \n",
       "1      29           42  \n",
       "2      42            6  \n",
       "3      33            4  \n",
       "4      12           31  "
      ]
     },
     "execution_count": 46,
     "metadata": {},
     "output_type": "execute_result"
    }
   ],
   "source": [
    "df_train.head()"
   ]
  },
  {
   "cell_type": "code",
   "execution_count": 79,
   "metadata": {},
   "outputs": [],
   "source": [
    "X_columns=['truckingcompanyid','productid','distanceinmiles','fuelcost','source']\n",
    "y_columns=['linehaulcost']"
   ]
  },
  {
   "cell_type": "code",
   "execution_count": 80,
   "metadata": {},
   "outputs": [],
   "source": [
    "X_train=df_train[X_columns]\n",
    "y_train=df_train[y_columns]\n",
    "X_test=df_test[X_columns]\n",
    "y_test=df_test[y_columns]"
   ]
  },
  {
   "cell_type": "code",
   "execution_count": 86,
   "metadata": {},
   "outputs": [],
   "source": [
    "classifiers_1 = [\n",
    "    'KernelRidge',\n",
    "    'DecisionTreeRegressor',\n",
    "    'RandomForestRegressor',\n",
    "    'GradientBoostingRegressor',\n",
    "    'AdaBoostRegressor',\n",
    "    'SVR', \n",
    "    'LinearSVR',\n",
    "    'PolynomialRegression'\n",
    "    ]"
   ]
  },
  {
   "cell_type": "code",
   "execution_count": 87,
   "metadata": {},
   "outputs": [
    {
     "name": "stderr",
     "output_type": "stream",
     "text": [
      "C:\\Users\\pavan\\anaconda3\\lib\\site-packages\\sklearn\\svm\\base.py:196: FutureWarning: The default value of gamma will change from 'auto' to 'scale' in version 0.22 to account better for unscaled features. Set gamma explicitly to 'auto' or 'scale' to avoid this warning.\n",
      "  \"avoid this warning.\", FutureWarning)\n"
     ]
    },
    {
     "name": "stdout",
     "output_type": "stream",
     "text": [
      "Wall time: 2min 46s\n"
     ]
    },
    {
     "name": "stderr",
     "output_type": "stream",
     "text": [
      "C:\\Users\\pavan\\anaconda3\\lib\\site-packages\\sklearn\\svm\\base.py:931: ConvergenceWarning: Liblinear failed to converge, increase the number of iterations.\n",
      "  \"the number of iterations.\", ConvergenceWarning)\n"
     ]
    }
   ],
   "source": [
    "%%time\n",
    "classifiers = [\n",
    "    KernelRidge(),\n",
    "    DecisionTreeRegressor(max_depth=3),\n",
    "    RandomForestRegressor(n_estimators=5000),\n",
    "    GradientBoostingRegressor(n_estimators=5000),\n",
    "    AdaBoostRegressor(n_estimators=5000),\n",
    "    SVR(), \n",
    "    LinearSVR(),\n",
    "    Pipeline([('poly', PolynomialFeatures(degree=2)),('linear', LinearRegression(fit_intercept=False))])\n",
    "    ]\n",
    "\n",
    "name = []\n",
    "test_score = []\n",
    "models = []\n",
    "test_rmse = []\n",
    "train_rmse=[]\n",
    "train_r2_score=[]\n",
    "test_r2_score=[]\n",
    "regsr=[]\n",
    "i = 0\n",
    "for classifier in classifiers:\n",
    "    classifier.fit(X_train, y_train.linehaulcost)   \n",
    "    name.append(classifiers_1[i] )\n",
    "    train_r2_score.append(r2_score(y_train, classifier.predict(X_train)))\n",
    "    test_r2_score.append(r2_score(y_test, classifier.predict(X_test)))\n",
    "    test_score.append(classifier.score(X_test, y_test))\n",
    "    train_rmse.append(np.sqrt(mean_squared_error(y_train,classifier.predict(X_train))))\n",
    "    test_rmse.append(np.sqrt(mean_squared_error( y_test,classifier.predict(X_test))))\n",
    "    i+=1"
   ]
  },
  {
   "cell_type": "code",
   "execution_count": 90,
   "metadata": {},
   "outputs": [],
   "source": [
    "scores=pd.DataFrame()\n",
    "scores['name']=name\n",
    "scores['train_r2score']=train_r2_score\n",
    "scores['test_r2_score']=test_r2_score\n",
    "scores['test_score']=test_score\n",
    "scores['train_rmse']=train_rmse\n",
    "scores['test_rmse']=test_rmse"
   ]
  },
  {
   "cell_type": "code",
   "execution_count": 91,
   "metadata": {},
   "outputs": [
    {
     "data": {
      "text/html": [
       "<div>\n",
       "<style scoped>\n",
       "    .dataframe tbody tr th:only-of-type {\n",
       "        vertical-align: middle;\n",
       "    }\n",
       "\n",
       "    .dataframe tbody tr th {\n",
       "        vertical-align: top;\n",
       "    }\n",
       "\n",
       "    .dataframe thead th {\n",
       "        text-align: right;\n",
       "    }\n",
       "</style>\n",
       "<table border=\"1\" class=\"dataframe\">\n",
       "  <thead>\n",
       "    <tr style=\"text-align: right;\">\n",
       "      <th></th>\n",
       "      <th>name</th>\n",
       "      <th>train_r2score</th>\n",
       "      <th>test_r2_score</th>\n",
       "      <th>test_score</th>\n",
       "      <th>train_rmse</th>\n",
       "      <th>test_rmse</th>\n",
       "    </tr>\n",
       "  </thead>\n",
       "  <tbody>\n",
       "    <tr>\n",
       "      <th>0</th>\n",
       "      <td>KernelRidge</td>\n",
       "      <td>0.151800</td>\n",
       "      <td>0.141583</td>\n",
       "      <td>0.141583</td>\n",
       "      <td>1576.014865</td>\n",
       "      <td>1542.203295</td>\n",
       "    </tr>\n",
       "    <tr>\n",
       "      <th>1</th>\n",
       "      <td>DecisionTreeRegressor</td>\n",
       "      <td>0.515986</td>\n",
       "      <td>0.479908</td>\n",
       "      <td>0.479908</td>\n",
       "      <td>1190.529032</td>\n",
       "      <td>1200.417740</td>\n",
       "    </tr>\n",
       "    <tr>\n",
       "      <th>2</th>\n",
       "      <td>RandomForestRegressor</td>\n",
       "      <td>0.923822</td>\n",
       "      <td>0.361297</td>\n",
       "      <td>0.361297</td>\n",
       "      <td>472.307857</td>\n",
       "      <td>1330.276071</td>\n",
       "    </tr>\n",
       "    <tr>\n",
       "      <th>3</th>\n",
       "      <td>GradientBoostingRegressor</td>\n",
       "      <td>0.974988</td>\n",
       "      <td>0.232117</td>\n",
       "      <td>0.232117</td>\n",
       "      <td>270.638433</td>\n",
       "      <td>1458.612125</td>\n",
       "    </tr>\n",
       "    <tr>\n",
       "      <th>4</th>\n",
       "      <td>AdaBoostRegressor</td>\n",
       "      <td>0.486979</td>\n",
       "      <td>0.382219</td>\n",
       "      <td>0.382219</td>\n",
       "      <td>1225.684912</td>\n",
       "      <td>1308.306738</td>\n",
       "    </tr>\n",
       "    <tr>\n",
       "      <th>5</th>\n",
       "      <td>SVR</td>\n",
       "      <td>-0.087535</td>\n",
       "      <td>-0.093927</td>\n",
       "      <td>-0.093927</td>\n",
       "      <td>1784.566442</td>\n",
       "      <td>1740.951176</td>\n",
       "    </tr>\n",
       "    <tr>\n",
       "      <th>6</th>\n",
       "      <td>LinearSVR</td>\n",
       "      <td>0.030183</td>\n",
       "      <td>0.013235</td>\n",
       "      <td>0.013235</td>\n",
       "      <td>1685.217791</td>\n",
       "      <td>1653.481398</td>\n",
       "    </tr>\n",
       "    <tr>\n",
       "      <th>7</th>\n",
       "      <td>PolynomialRegression</td>\n",
       "      <td>0.305400</td>\n",
       "      <td>0.285727</td>\n",
       "      <td>0.285727</td>\n",
       "      <td>1426.193639</td>\n",
       "      <td>1406.774887</td>\n",
       "    </tr>\n",
       "  </tbody>\n",
       "</table>\n",
       "</div>"
      ],
      "text/plain": [
       "                        name  train_r2score  test_r2_score  test_score  \\\n",
       "0                KernelRidge       0.151800       0.141583    0.141583   \n",
       "1      DecisionTreeRegressor       0.515986       0.479908    0.479908   \n",
       "2      RandomForestRegressor       0.923822       0.361297    0.361297   \n",
       "3  GradientBoostingRegressor       0.974988       0.232117    0.232117   \n",
       "4          AdaBoostRegressor       0.486979       0.382219    0.382219   \n",
       "5                        SVR      -0.087535      -0.093927   -0.093927   \n",
       "6                  LinearSVR       0.030183       0.013235    0.013235   \n",
       "7       PolynomialRegression       0.305400       0.285727    0.285727   \n",
       "\n",
       "    train_rmse    test_rmse  \n",
       "0  1576.014865  1542.203295  \n",
       "1  1190.529032  1200.417740  \n",
       "2   472.307857  1330.276071  \n",
       "3   270.638433  1458.612125  \n",
       "4  1225.684912  1308.306738  \n",
       "5  1784.566442  1740.951176  \n",
       "6  1685.217791  1653.481398  \n",
       "7  1426.193639  1406.774887  "
      ]
     },
     "execution_count": 91,
     "metadata": {},
     "output_type": "execute_result"
    }
   ],
   "source": [
    "scores"
   ]
  },
  {
   "cell_type": "code",
   "execution_count": 66,
   "metadata": {},
   "outputs": [
    {
     "data": {
      "text/html": [
       "<div>\n",
       "<style scoped>\n",
       "    .dataframe tbody tr th:only-of-type {\n",
       "        vertical-align: middle;\n",
       "    }\n",
       "\n",
       "    .dataframe tbody tr th {\n",
       "        vertical-align: top;\n",
       "    }\n",
       "\n",
       "    .dataframe thead th {\n",
       "        text-align: right;\n",
       "    }\n",
       "</style>\n",
       "<table border=\"1\" class=\"dataframe\">\n",
       "  <thead>\n",
       "    <tr style=\"text-align: right;\">\n",
       "      <th></th>\n",
       "      <th>name</th>\n",
       "      <th>score</th>\n",
       "      <th>rmse</th>\n",
       "    </tr>\n",
       "  </thead>\n",
       "  <tbody>\n",
       "    <tr>\n",
       "      <th>0</th>\n",
       "      <td>KernelRidge</td>\n",
       "      <td>0.130781</td>\n",
       "      <td>1551.876342</td>\n",
       "    </tr>\n",
       "    <tr>\n",
       "      <th>1</th>\n",
       "      <td>RandomForestRegressor</td>\n",
       "      <td>0.315663</td>\n",
       "      <td>1376.979325</td>\n",
       "    </tr>\n",
       "    <tr>\n",
       "      <th>2</th>\n",
       "      <td>GradientBoostingRegressor</td>\n",
       "      <td>0.437486</td>\n",
       "      <td>1248.415276</td>\n",
       "    </tr>\n",
       "    <tr>\n",
       "      <th>3</th>\n",
       "      <td>AdaBoostRegressor</td>\n",
       "      <td>0.391392</td>\n",
       "      <td>1298.558142</td>\n",
       "    </tr>\n",
       "    <tr>\n",
       "      <th>4</th>\n",
       "      <td>SVR</td>\n",
       "      <td>-0.093927</td>\n",
       "      <td>1740.951209</td>\n",
       "    </tr>\n",
       "    <tr>\n",
       "      <th>5</th>\n",
       "      <td>LinearSVR</td>\n",
       "      <td>-3.610074</td>\n",
       "      <td>3573.932591</td>\n",
       "    </tr>\n",
       "  </tbody>\n",
       "</table>\n",
       "</div>"
      ],
      "text/plain": [
       "                        name     score         rmse\n",
       "0                KernelRidge  0.130781  1551.876342\n",
       "1      RandomForestRegressor  0.315663  1376.979325\n",
       "2  GradientBoostingRegressor  0.437486  1248.415276\n",
       "3          AdaBoostRegressor  0.391392  1298.558142\n",
       "4                        SVR -0.093927  1740.951209\n",
       "5                  LinearSVR -3.610074  3573.932591"
      ]
     },
     "execution_count": 66,
     "metadata": {},
     "output_type": "execute_result"
    }
   ],
   "source": [
    "scores"
   ]
  },
  {
   "cell_type": "code",
   "execution_count": 67,
   "metadata": {},
   "outputs": [
    {
     "name": "stdout",
     "output_type": "stream",
     "text": [
      "0.2845783698783598\n",
      "1407.9052962299918\n"
     ]
    }
   ],
   "source": [
    "from sklearn.preprocessing import PolynomialFeatures\n",
    "from sklearn.linear_model import LinearRegression\n",
    "from sklearn.pipeline import Pipeline\n",
    "\n",
    "model = Pipeline([('poly', PolynomialFeatures(degree=2)),('linear', LinearRegression(fit_intercept=False))])\n",
    "# fit to an order-3 polynomial data\n",
    "model = model.fit(X_train,y_train)\n",
    "\n",
    "print(model.score(X_test, y_test))\n",
    "print(np.sqrt(mean_squared_error(model.predict(X_test), y_test)))"
   ]
  },
  {
   "cell_type": "code",
   "execution_count": null,
   "metadata": {},
   "outputs": [],
   "source": []
  },
  {
   "cell_type": "code",
   "execution_count": 68,
   "metadata": {},
   "outputs": [],
   "source": [
    "# Code Lines 1 to 4: Fit the regression tree 'dtree1' and 'dtree2' \n",
    "dtree1 = DecisionTreeRegressor(max_depth=3)\n",
    "dtree2 = DecisionTreeRegressor(max_depth=5)\n",
    "dtree1.fit(X_train, y_train)\n",
    "dtree2.fit(X_train, y_train)\n",
    "\n",
    "# Code Lines 5 to 6: Predict on training data\n",
    "tr1 = dtree1.predict(X_train)\n",
    "tr2 = dtree2.predict(X_train) \n",
    "\n",
    "#Code Lines 7 to 8: Predict on testing data\n",
    "y1 = dtree1.predict(X_test)\n",
    "y2 = dtree2.predict(X_test)"
   ]
  },
  {
   "cell_type": "code",
   "execution_count": 69,
   "metadata": {},
   "outputs": [
    {
     "name": "stdout",
     "output_type": "stream",
     "text": [
      "1190.5290315087188\n",
      "0.5159861100927711\n",
      "1200.4177399977582\n",
      "0.47990821865612443\n"
     ]
    }
   ],
   "source": [
    "# Print RMSE and R-squared value for regression tree 'dtree1' on training data\n",
    "print(np.sqrt(mean_squared_error(y_train,tr1))) \n",
    "print(r2_score(y_train, tr1))\n",
    "\n",
    "# Print RMSE and R-squared value for regression tree 'dtree1' on testing data\n",
    "print(np.sqrt(mean_squared_error(y_test,y1))) \n",
    "print(r2_score(y_test, y1)) "
   ]
  },
  {
   "cell_type": "code",
   "execution_count": 70,
   "metadata": {},
   "outputs": [
    {
     "name": "stdout",
     "output_type": "stream",
     "text": [
      "1133.8709250091656\n",
      "0.560958996231908\n",
      "1222.7687471622473\n",
      "0.46036036327095087\n"
     ]
    }
   ],
   "source": [
    "# Print RMSE and R-squared value for regression tree 'dtree2' on training data\n",
    "print(np.sqrt(mean_squared_error(y_train,tr2))) \n",
    "print(r2_score(y_train, tr2))\n",
    "\n",
    "# Print RMSE and R-squared value for regression tree 'dtree2' on testing data\n",
    "print(np.sqrt(mean_squared_error(y_test,y2))) \n",
    "print(r2_score(y_test, y2))"
   ]
  },
  {
   "cell_type": "code",
   "execution_count": 71,
   "metadata": {},
   "outputs": [
    {
     "name": "stderr",
     "output_type": "stream",
     "text": [
      "C:\\Users\\pavan\\anaconda3\\lib\\site-packages\\sklearn\\utils\\validation.py:761: DataConversionWarning: A column-vector y was passed when a 1d array was expected. Please change the shape of y to (n_samples, ), for example using ravel().\n",
      "  y = column_or_1d(y, warn=True)\n"
     ]
    },
    {
     "name": "stdout",
     "output_type": "stream",
     "text": [
      "257.5790241203563\n",
      "0.9773431864231209\n",
      "1453.7916402052067\n",
      "0.23718448861684793\n"
     ]
    }
   ],
   "source": [
    "#RF model\n",
    "model_rf = GradientBoostingRegressor(n_estimators=5000, max_depth=3, random_state=100)\n",
    "model_rf.fit(X_train, y_train) \n",
    "pred_train_rf= model_rf.predict(X_train)\n",
    "print(np.sqrt(mean_squared_error(y_train,pred_train_rf)))\n",
    "print(r2_score(y_train, pred_train_rf))\n",
    "\n",
    "pred_test_rf = model_rf.predict(X_test)\n",
    "print(np.sqrt(mean_squared_error(y_test,pred_test_rf)))\n",
    "print(r2_score(y_test, pred_test_rf))"
   ]
  },
  {
   "cell_type": "code",
   "execution_count": 72,
   "metadata": {},
   "outputs": [
    {
     "name": "stderr",
     "output_type": "stream",
     "text": [
      "C:\\Users\\pavan\\anaconda3\\lib\\site-packages\\ipykernel_launcher.py:3: DataConversionWarning: A column-vector y was passed when a 1d array was expected. Please change the shape of y to (n_samples,), for example using ravel().\n",
      "  This is separate from the ipykernel package so we can avoid doing imports until\n"
     ]
    },
    {
     "name": "stdout",
     "output_type": "stream",
     "text": [
      "1168.0733513138862\n",
      "0.5340727874694569\n",
      "1182.0701983097063\n",
      "0.49568519502303177\n"
     ]
    }
   ],
   "source": [
    "#RF model\n",
    "model_rf = RandomForestRegressor(n_estimators=5000, max_depth=3, random_state=100)\n",
    "model_rf.fit(X_train, y_train) \n",
    "pred_train_rf= model_rf.predict(X_train)\n",
    "print(np.sqrt(mean_squared_error(y_train,pred_train_rf)))\n",
    "print(r2_score(y_train, pred_train_rf))\n",
    "\n",
    "pred_test_rf = model_rf.predict(X_test)\n",
    "print(np.sqrt(mean_squared_error(y_test,pred_test_rf)))\n",
    "print(r2_score(y_test, pred_test_rf))"
   ]
  },
  {
   "cell_type": "code",
   "execution_count": 73,
   "metadata": {},
   "outputs": [
    {
     "data": {
      "text/plain": [
       "array([0.0132079 , 0.0112039 , 0.94029167, 0.01720308, 0.01563362,\n",
       "       0.00245982])"
      ]
     },
     "execution_count": 73,
     "metadata": {},
     "output_type": "execute_result"
    }
   ],
   "source": [
    "model_rf.feature_importances_"
   ]
  },
  {
   "cell_type": "code",
   "execution_count": 74,
   "metadata": {},
   "outputs": [
    {
     "data": {
      "text/plain": [
       "Index(['truckingcompanyid', 'productid', 'distanceinmiles', 'fuelcost',\n",
       "       'source', 'destination'],\n",
       "      dtype='object')"
      ]
     },
     "execution_count": 74,
     "metadata": {},
     "output_type": "execute_result"
    }
   ],
   "source": [
    "X_train.columns"
   ]
  },
  {
   "cell_type": "code",
   "execution_count": 47,
   "metadata": {},
   "outputs": [],
   "source": [
    "from sklearn.feature_selection import RFE"
   ]
  },
  {
   "cell_type": "code",
   "execution_count": 57,
   "metadata": {},
   "outputs": [
    {
     "data": {
      "text/plain": [
       "array([1, 1, 1, 1, 1, 2])"
      ]
     },
     "execution_count": 57,
     "metadata": {},
     "output_type": "execute_result"
    }
   ],
   "source": [
    "estimator = SVR(kernel=\"linear\")\n",
    "selector = RFE(model_rf, n_features_to_select=5, step=1)\n",
    "selector = selector.fit(X_train, y_train.linehaulcost)\n",
    "selector.support_\n",
    "selector.ranking_"
   ]
  },
  {
   "cell_type": "code",
   "execution_count": 58,
   "metadata": {},
   "outputs": [
    {
     "data": {
      "text/html": [
       "<div>\n",
       "<style scoped>\n",
       "    .dataframe tbody tr th:only-of-type {\n",
       "        vertical-align: middle;\n",
       "    }\n",
       "\n",
       "    .dataframe tbody tr th {\n",
       "        vertical-align: top;\n",
       "    }\n",
       "\n",
       "    .dataframe thead th {\n",
       "        text-align: right;\n",
       "    }\n",
       "</style>\n",
       "<table border=\"1\" class=\"dataframe\">\n",
       "  <thead>\n",
       "    <tr style=\"text-align: right;\">\n",
       "      <th></th>\n",
       "      <th>truckingcompanyid</th>\n",
       "      <th>productid</th>\n",
       "      <th>distanceinmiles</th>\n",
       "      <th>fuelcost</th>\n",
       "      <th>source</th>\n",
       "      <th>destination</th>\n",
       "    </tr>\n",
       "  </thead>\n",
       "  <tbody>\n",
       "    <tr>\n",
       "      <th>0</th>\n",
       "      <td>9343</td>\n",
       "      <td>2</td>\n",
       "      <td>3600.84</td>\n",
       "      <td>6.17</td>\n",
       "      <td>34</td>\n",
       "      <td>21</td>\n",
       "    </tr>\n",
       "    <tr>\n",
       "      <th>1</th>\n",
       "      <td>2363</td>\n",
       "      <td>23</td>\n",
       "      <td>1265.16</td>\n",
       "      <td>4.50</td>\n",
       "      <td>29</td>\n",
       "      <td>42</td>\n",
       "    </tr>\n",
       "    <tr>\n",
       "      <th>2</th>\n",
       "      <td>9634</td>\n",
       "      <td>23</td>\n",
       "      <td>486.60</td>\n",
       "      <td>5.52</td>\n",
       "      <td>42</td>\n",
       "      <td>6</td>\n",
       "    </tr>\n",
       "    <tr>\n",
       "      <th>3</th>\n",
       "      <td>5243</td>\n",
       "      <td>15</td>\n",
       "      <td>973.20</td>\n",
       "      <td>6.34</td>\n",
       "      <td>33</td>\n",
       "      <td>4</td>\n",
       "    </tr>\n",
       "    <tr>\n",
       "      <th>4</th>\n",
       "      <td>2149</td>\n",
       "      <td>20</td>\n",
       "      <td>2043.72</td>\n",
       "      <td>5.65</td>\n",
       "      <td>12</td>\n",
       "      <td>31</td>\n",
       "    </tr>\n",
       "    <tr>\n",
       "      <th>...</th>\n",
       "      <td>...</td>\n",
       "      <td>...</td>\n",
       "      <td>...</td>\n",
       "      <td>...</td>\n",
       "      <td>...</td>\n",
       "      <td>...</td>\n",
       "    </tr>\n",
       "    <tr>\n",
       "      <th>6995</th>\n",
       "      <td>5252</td>\n",
       "      <td>3</td>\n",
       "      <td>2335.68</td>\n",
       "      <td>5.19</td>\n",
       "      <td>21</td>\n",
       "      <td>11</td>\n",
       "    </tr>\n",
       "    <tr>\n",
       "      <th>6996</th>\n",
       "      <td>9679</td>\n",
       "      <td>4</td>\n",
       "      <td>97.32</td>\n",
       "      <td>7.37</td>\n",
       "      <td>35</td>\n",
       "      <td>34</td>\n",
       "    </tr>\n",
       "    <tr>\n",
       "      <th>6997</th>\n",
       "      <td>7767</td>\n",
       "      <td>23</td>\n",
       "      <td>973.20</td>\n",
       "      <td>5.03</td>\n",
       "      <td>17</td>\n",
       "      <td>39</td>\n",
       "    </tr>\n",
       "    <tr>\n",
       "      <th>6998</th>\n",
       "      <td>4833</td>\n",
       "      <td>24</td>\n",
       "      <td>389.28</td>\n",
       "      <td>4.96</td>\n",
       "      <td>6</td>\n",
       "      <td>11</td>\n",
       "    </tr>\n",
       "    <tr>\n",
       "      <th>6999</th>\n",
       "      <td>7699</td>\n",
       "      <td>24</td>\n",
       "      <td>1849.08</td>\n",
       "      <td>5.55</td>\n",
       "      <td>20</td>\n",
       "      <td>40</td>\n",
       "    </tr>\n",
       "  </tbody>\n",
       "</table>\n",
       "<p>7000 rows × 6 columns</p>\n",
       "</div>"
      ],
      "text/plain": [
       "      truckingcompanyid  productid  distanceinmiles  fuelcost  source  \\\n",
       "0                  9343          2          3600.84      6.17      34   \n",
       "1                  2363         23          1265.16      4.50      29   \n",
       "2                  9634         23           486.60      5.52      42   \n",
       "3                  5243         15           973.20      6.34      33   \n",
       "4                  2149         20          2043.72      5.65      12   \n",
       "...                 ...        ...              ...       ...     ...   \n",
       "6995               5252          3          2335.68      5.19      21   \n",
       "6996               9679          4            97.32      7.37      35   \n",
       "6997               7767         23           973.20      5.03      17   \n",
       "6998               4833         24           389.28      4.96       6   \n",
       "6999               7699         24          1849.08      5.55      20   \n",
       "\n",
       "      destination  \n",
       "0              21  \n",
       "1              42  \n",
       "2               6  \n",
       "3               4  \n",
       "4              31  \n",
       "...           ...  \n",
       "6995           11  \n",
       "6996           34  \n",
       "6997           39  \n",
       "6998           11  \n",
       "6999           40  \n",
       "\n",
       "[7000 rows x 6 columns]"
      ]
     },
     "execution_count": 58,
     "metadata": {},
     "output_type": "execute_result"
    }
   ],
   "source": [
    "X_train"
   ]
  },
  {
   "cell_type": "code",
   "execution_count": null,
   "metadata": {},
   "outputs": [],
   "source": []
  },
  {
   "cell_type": "code",
   "execution_count": null,
   "metadata": {},
   "outputs": [],
   "source": []
  }
 ],
 "metadata": {
  "kernelspec": {
   "display_name": "Python 3",
   "language": "python",
   "name": "python3"
  },
  "language_info": {
   "codemirror_mode": {
    "name": "ipython",
    "version": 3
   },
   "file_extension": ".py",
   "mimetype": "text/x-python",
   "name": "python",
   "nbconvert_exporter": "python",
   "pygments_lexer": "ipython3",
   "version": "3.7.6"
  }
 },
 "nbformat": 4,
 "nbformat_minor": 4
}
