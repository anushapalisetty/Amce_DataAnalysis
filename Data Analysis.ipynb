{
 "cells": [
  {
   "cell_type": "code",
   "execution_count": 25,
   "metadata": {},
   "outputs": [],
   "source": [
    "import pandas as pd\n",
    "import numpy as np"
   ]
  },
  {
   "cell_type": "code",
   "execution_count": 206,
   "metadata": {},
   "outputs": [],
   "source": [
    "df=pd.read_csv('nbl_eval.csv')"
   ]
  },
  {
   "cell_type": "code",
   "execution_count": 3,
   "metadata": {},
   "outputs": [
    {
     "data": {
      "text/html": [
       "<div>\n",
       "<style scoped>\n",
       "    .dataframe tbody tr th:only-of-type {\n",
       "        vertical-align: middle;\n",
       "    }\n",
       "\n",
       "    .dataframe tbody tr th {\n",
       "        vertical-align: top;\n",
       "    }\n",
       "\n",
       "    .dataframe thead th {\n",
       "        text-align: right;\n",
       "    }\n",
       "</style>\n",
       "<table border=\"1\" class=\"dataframe\">\n",
       "  <thead>\n",
       "    <tr style=\"text-align: right;\">\n",
       "      <th></th>\n",
       "      <th>truckingcompanyid</th>\n",
       "      <th>productid</th>\n",
       "      <th>distanceinmiles</th>\n",
       "      <th>fuelcost</th>\n",
       "      <th>linehaulcost</th>\n",
       "      <th>source</th>\n",
       "      <th>destination</th>\n",
       "    </tr>\n",
       "  </thead>\n",
       "  <tbody>\n",
       "    <tr>\n",
       "      <th>0</th>\n",
       "      <td>7739</td>\n",
       "      <td>13</td>\n",
       "      <td>291.96</td>\n",
       "      <td>5.67</td>\n",
       "      <td>2821.21</td>\n",
       "      <td>San Antonio</td>\n",
       "      <td>Houston</td>\n",
       "    </tr>\n",
       "    <tr>\n",
       "      <th>1</th>\n",
       "      <td>1877</td>\n",
       "      <td>23</td>\n",
       "      <td>778.56</td>\n",
       "      <td>6.19</td>\n",
       "      <td>290.03</td>\n",
       "      <td>Detroit</td>\n",
       "      <td>San Francisco</td>\n",
       "    </tr>\n",
       "    <tr>\n",
       "      <th>2</th>\n",
       "      <td>3019</td>\n",
       "      <td>9</td>\n",
       "      <td>2433.00</td>\n",
       "      <td>4.55</td>\n",
       "      <td>682.18</td>\n",
       "      <td>San Diego</td>\n",
       "      <td>Tucson</td>\n",
       "    </tr>\n",
       "    <tr>\n",
       "      <th>3</th>\n",
       "      <td>6995</td>\n",
       "      <td>18</td>\n",
       "      <td>389.28</td>\n",
       "      <td>6.54</td>\n",
       "      <td>183.41</td>\n",
       "      <td>Minneapolis</td>\n",
       "      <td>New Orleans</td>\n",
       "    </tr>\n",
       "    <tr>\n",
       "      <th>4</th>\n",
       "      <td>7583</td>\n",
       "      <td>21</td>\n",
       "      <td>1946.40</td>\n",
       "      <td>6.58</td>\n",
       "      <td>238.36</td>\n",
       "      <td>New Orleans</td>\n",
       "      <td>Baltimore</td>\n",
       "    </tr>\n",
       "  </tbody>\n",
       "</table>\n",
       "</div>"
      ],
      "text/plain": [
       "   truckingcompanyid  productid  distanceinmiles  fuelcost  linehaulcost  \\\n",
       "0               7739         13           291.96      5.67       2821.21   \n",
       "1               1877         23           778.56      6.19        290.03   \n",
       "2               3019          9          2433.00      4.55        682.18   \n",
       "3               6995         18           389.28      6.54        183.41   \n",
       "4               7583         21          1946.40      6.58        238.36   \n",
       "\n",
       "        source    destination  \n",
       "0  San Antonio        Houston  \n",
       "1      Detroit  San Francisco  \n",
       "2    San Diego         Tucson  \n",
       "3  Minneapolis    New Orleans  \n",
       "4  New Orleans      Baltimore  "
      ]
     },
     "execution_count": 3,
     "metadata": {},
     "output_type": "execute_result"
    }
   ],
   "source": [
    "df.head()"
   ]
  },
  {
   "cell_type": "code",
   "execution_count": 4,
   "metadata": {},
   "outputs": [
    {
     "data": {
      "text/plain": [
       "(10286, 7)"
      ]
     },
     "execution_count": 4,
     "metadata": {},
     "output_type": "execute_result"
    }
   ],
   "source": [
    "df.shape"
   ]
  },
  {
   "cell_type": "code",
   "execution_count": 5,
   "metadata": {},
   "outputs": [
    {
     "data": {
      "text/plain": [
       "truckingcompanyid      int64\n",
       "productid              int64\n",
       "distanceinmiles      float64\n",
       "fuelcost             float64\n",
       "linehaulcost         float64\n",
       "source                object\n",
       "destination           object\n",
       "dtype: object"
      ]
     },
     "execution_count": 5,
     "metadata": {},
     "output_type": "execute_result"
    }
   ],
   "source": [
    "df.dtypes"
   ]
  },
  {
   "cell_type": "code",
   "execution_count": 6,
   "metadata": {},
   "outputs": [],
   "source": [
    "df['truckingcompanyid']=df['truckingcompanyid'].astype(str)\n",
    "df['productid']=df['productid'].astype(str)"
   ]
  },
  {
   "cell_type": "code",
   "execution_count": 7,
   "metadata": {},
   "outputs": [
    {
     "data": {
      "text/plain": [
       "truckingcompanyid    0\n",
       "productid            0\n",
       "distanceinmiles      0\n",
       "fuelcost             0\n",
       "linehaulcost         0\n",
       "source               0\n",
       "destination          0\n",
       "dtype: int64"
      ]
     },
     "execution_count": 7,
     "metadata": {},
     "output_type": "execute_result"
    }
   ],
   "source": [
    "df.isna().sum()"
   ]
  },
  {
   "cell_type": "code",
   "execution_count": 8,
   "metadata": {},
   "outputs": [],
   "source": [
    "df_num=df.select_dtypes(exclude='object')\n",
    "df_cat=df.select_dtypes(include='object')"
   ]
  },
  {
   "cell_type": "code",
   "execution_count": 9,
   "metadata": {},
   "outputs": [
    {
     "data": {
      "text/html": [
       "<div>\n",
       "<style scoped>\n",
       "    .dataframe tbody tr th:only-of-type {\n",
       "        vertical-align: middle;\n",
       "    }\n",
       "\n",
       "    .dataframe tbody tr th {\n",
       "        vertical-align: top;\n",
       "    }\n",
       "\n",
       "    .dataframe thead th {\n",
       "        text-align: right;\n",
       "    }\n",
       "</style>\n",
       "<table border=\"1\" class=\"dataframe\">\n",
       "  <thead>\n",
       "    <tr style=\"text-align: right;\">\n",
       "      <th></th>\n",
       "      <th>distanceinmiles</th>\n",
       "      <th>fuelcost</th>\n",
       "      <th>linehaulcost</th>\n",
       "    </tr>\n",
       "  </thead>\n",
       "  <tbody>\n",
       "    <tr>\n",
       "      <th>count</th>\n",
       "      <td>10286.000000</td>\n",
       "      <td>10286.000000</td>\n",
       "      <td>10286.000000</td>\n",
       "    </tr>\n",
       "    <tr>\n",
       "      <th>mean</th>\n",
       "      <td>1616.187544</td>\n",
       "      <td>5.499473</td>\n",
       "      <td>830.179412</td>\n",
       "    </tr>\n",
       "    <tr>\n",
       "      <th>std</th>\n",
       "      <td>1109.212772</td>\n",
       "      <td>0.987558</td>\n",
       "      <td>1696.541911</td>\n",
       "    </tr>\n",
       "    <tr>\n",
       "      <th>min</th>\n",
       "      <td>97.320000</td>\n",
       "      <td>2.150000</td>\n",
       "      <td>7.490000</td>\n",
       "    </tr>\n",
       "    <tr>\n",
       "      <th>25%</th>\n",
       "      <td>681.240000</td>\n",
       "      <td>4.850000</td>\n",
       "      <td>150.402500</td>\n",
       "    </tr>\n",
       "    <tr>\n",
       "      <th>50%</th>\n",
       "      <td>1459.800000</td>\n",
       "      <td>5.500000</td>\n",
       "      <td>326.135000</td>\n",
       "    </tr>\n",
       "    <tr>\n",
       "      <th>75%</th>\n",
       "      <td>2433.000000</td>\n",
       "      <td>6.160000</td>\n",
       "      <td>771.737500</td>\n",
       "    </tr>\n",
       "    <tr>\n",
       "      <th>max</th>\n",
       "      <td>4671.360000</td>\n",
       "      <td>9.550000</td>\n",
       "      <td>34845.530000</td>\n",
       "    </tr>\n",
       "  </tbody>\n",
       "</table>\n",
       "</div>"
      ],
      "text/plain": [
       "       distanceinmiles      fuelcost  linehaulcost\n",
       "count     10286.000000  10286.000000  10286.000000\n",
       "mean       1616.187544      5.499473    830.179412\n",
       "std        1109.212772      0.987558   1696.541911\n",
       "min          97.320000      2.150000      7.490000\n",
       "25%         681.240000      4.850000    150.402500\n",
       "50%        1459.800000      5.500000    326.135000\n",
       "75%        2433.000000      6.160000    771.737500\n",
       "max        4671.360000      9.550000  34845.530000"
      ]
     },
     "execution_count": 9,
     "metadata": {},
     "output_type": "execute_result"
    }
   ],
   "source": [
    "df_num.describe()"
   ]
  },
  {
   "cell_type": "code",
   "execution_count": 10,
   "metadata": {},
   "outputs": [
    {
     "data": {
      "text/html": [
       "<div>\n",
       "<style scoped>\n",
       "    .dataframe tbody tr th:only-of-type {\n",
       "        vertical-align: middle;\n",
       "    }\n",
       "\n",
       "    .dataframe tbody tr th {\n",
       "        vertical-align: top;\n",
       "    }\n",
       "\n",
       "    .dataframe thead th {\n",
       "        text-align: right;\n",
       "    }\n",
       "</style>\n",
       "<table border=\"1\" class=\"dataframe\">\n",
       "  <thead>\n",
       "    <tr style=\"text-align: right;\">\n",
       "      <th></th>\n",
       "      <th>truckingcompanyid</th>\n",
       "      <th>productid</th>\n",
       "      <th>source</th>\n",
       "      <th>destination</th>\n",
       "    </tr>\n",
       "  </thead>\n",
       "  <tbody>\n",
       "    <tr>\n",
       "      <th>count</th>\n",
       "      <td>10286</td>\n",
       "      <td>10286</td>\n",
       "      <td>10286</td>\n",
       "      <td>10286</td>\n",
       "    </tr>\n",
       "    <tr>\n",
       "      <th>unique</th>\n",
       "      <td>6153</td>\n",
       "      <td>24</td>\n",
       "      <td>49</td>\n",
       "      <td>49</td>\n",
       "    </tr>\n",
       "    <tr>\n",
       "      <th>top</th>\n",
       "      <td>5367</td>\n",
       "      <td>4</td>\n",
       "      <td>Phoenix</td>\n",
       "      <td>New Orleans</td>\n",
       "    </tr>\n",
       "    <tr>\n",
       "      <th>freq</th>\n",
       "      <td>8</td>\n",
       "      <td>464</td>\n",
       "      <td>242</td>\n",
       "      <td>262</td>\n",
       "    </tr>\n",
       "  </tbody>\n",
       "</table>\n",
       "</div>"
      ],
      "text/plain": [
       "       truckingcompanyid productid   source  destination\n",
       "count              10286     10286    10286        10286\n",
       "unique              6153        24       49           49\n",
       "top                 5367         4  Phoenix  New Orleans\n",
       "freq                   8       464      242          262"
      ]
     },
     "execution_count": 10,
     "metadata": {},
     "output_type": "execute_result"
    }
   ],
   "source": [
    "df_cat.describe()"
   ]
  },
  {
   "cell_type": "markdown",
   "metadata": {},
   "source": [
    "## Data Analysis"
   ]
  },
  {
   "cell_type": "code",
   "execution_count": 15,
   "metadata": {},
   "outputs": [],
   "source": [
    "import matplotlib.pyplot as plt\n",
    "import seaborn as sns"
   ]
  },
  {
   "cell_type": "code",
   "execution_count": 14,
   "metadata": {},
   "outputs": [
    {
     "data": {
      "text/plain": [
       "<AxesSubplot:>"
      ]
     },
     "execution_count": 14,
     "metadata": {},
     "output_type": "execute_result"
    },
    {
     "data": {
      "image/png": "[encoded data removed]",
      "text/plain": [
       "<Figure size 432x288 with 1 Axes>"
      ]
     },
     "metadata": {
      "needs_background": "light"
     },
     "output_type": "display_data"
    }
   ],
   "source": [
    "df_num.linehaulcost.hist()"
   ]
  },
  {
   "cell_type": "code",
   "execution_count": 32,
   "metadata": {},
   "outputs": [
    {
     "data": {
      "text/plain": [
       "<AxesSubplot:>"
      ]
     },
     "execution_count": 32,
     "metadata": {},
     "output_type": "execute_result"
    },
    {
     "data": {
      "image/png": "[encoded data removed]",
      "text/plain": [
       "<Figure size 432x288 with 1 Axes>"
      ]
     },
     "metadata": {
      "needs_background": "light"
     },
     "output_type": "display_data"
    }
   ],
   "source": [
    "df_num.distanceinmiles.hist()"
   ]
  },
  {
   "cell_type": "code",
   "execution_count": 19,
   "metadata": {},
   "outputs": [
    {
     "data": {
      "text/plain": [
       "<AxesSubplot:xlabel='distanceinmiles', ylabel='linehaulcost'>"
      ]
     },
     "execution_count": 19,
     "metadata": {},
     "output_type": "execute_result"
    },
    {
     "data": {
      "image/png": "[encoded data removed]",
      "text/plain": [
       "<Figure size 432x288 with 1 Axes>"
      ]
     },
     "metadata": {
      "needs_background": "light"
     },
     "output_type": "display_data"
    }
   ],
   "source": [
    "sns.scatterplot(data=df_num, x='distanceinmiles',y='linehaulcost')"
   ]
  },
  {
   "cell_type": "code",
   "execution_count": 24,
   "metadata": {},
   "outputs": [
    {
     "data": {
      "text/plain": [
       "<seaborn.axisgrid.PairGrid at 0x237cd82fd08>"
      ]
     },
     "execution_count": 24,
     "metadata": {},
     "output_type": "execute_result"
    },
    {
     "data": {
      "image/png": "[encoded data removed]",
      "text/plain": [
       "<Figure size 540x540 with 12 Axes>"
      ]
     },
     "metadata": {
      "needs_background": "light"
     },
     "output_type": "display_data"
    }
   ],
   "source": [
    "sns.pairplot(data=df_num)"
   ]
  },
  {
   "cell_type": "markdown",
   "metadata": {},
   "source": [
    "## Sampling"
   ]
  },
  {
   "cell_type": "code",
   "execution_count": 58,
   "metadata": {},
   "outputs": [],
   "source": [
    "from sklearn.model_selection import train_test_split"
   ]
  },
  {
   "cell_type": "markdown",
   "metadata": {},
   "source": [
    "## Method1"
   ]
  },
  {
   "cell_type": "code",
   "execution_count": 101,
   "metadata": {},
   "outputs": [
    {
     "data": {
      "image/png": "[encoded data removed]",
      "text/plain": [
       "<Figure size 432x288 with 1 Axes>"
      ]
     },
     "metadata": {
      "needs_background": "light"
     },
     "output_type": "display_data"
    }
   ],
   "source": [
    "df_1=df.sample(5000)\n",
    "df_1.linehaulcost.hist()\n",
    "plt.show()"
   ]
  },
  {
   "cell_type": "markdown",
   "metadata": {},
   "source": [
    "## Method2"
   ]
  },
  {
   "cell_type": "code",
   "execution_count": 102,
   "metadata": {},
   "outputs": [],
   "source": [
    "X=df.loc[:,df.columns != 'linehaulcost']\n",
    "y=df['linehaulcost']\n",
    "X_train,X_test,y_train,y_test=train_test_split(X,y,test_size=0.3)"
   ]
  },
  {
   "cell_type": "code",
   "execution_count": 103,
   "metadata": {},
   "outputs": [
    {
     "data": {
      "text/plain": [
       "<AxesSubplot:>"
      ]
     },
     "execution_count": 103,
     "metadata": {},
     "output_type": "execute_result"
    },
    {
     "data": {
      "image/png": "[encoded data removed]",
      "text/plain": [
       "<Figure size 432x288 with 1 Axes>"
      ]
     },
     "metadata": {
      "needs_background": "light"
     },
     "output_type": "display_data"
    }
   ],
   "source": [
    "y_train.hist()"
   ]
  },
  {
   "cell_type": "markdown",
   "metadata": {},
   "source": [
    "### Comparing sample data and original data"
   ]
  },
  {
   "cell_type": "code",
   "execution_count": 159,
   "metadata": {},
   "outputs": [],
   "source": [
    "from scipy.stats import ks_2samp,f_oneway,kruskal\n",
    "import scipy.stats as stats"
   ]
  },
  {
   "cell_type": "markdown",
   "metadata": {},
   "source": [
    "## Kolmogorov-Smirnov\t(K-S)\tTest:"
   ]
  },
  {
   "cell_type": "code",
   "execution_count": 105,
   "metadata": {},
   "outputs": [
    {
     "data": {
      "text/plain": [
       "KstestResult(statistic=0.006465448181994904, pvalue=0.9988267695460475)"
      ]
     },
     "execution_count": 105,
     "metadata": {},
     "output_type": "execute_result"
    }
   ],
   "source": [
    "ks_2samp(df.linehaulcost, df_1.linehaulcost)"
   ]
  },
  {
   "cell_type": "markdown",
   "metadata": {},
   "source": [
    "### KS statistic is small and the p-value is high, so we cannot reject the hypothesis that the distributions of the two samples are the same.Hence, both the samples have same distribution"
   ]
  },
  {
   "cell_type": "code",
   "execution_count": 106,
   "metadata": {},
   "outputs": [
    {
     "data": {
      "text/plain": [
       "KstestResult(statistic=0.006836233715730056, pvalue=0.988203540085614)"
      ]
     },
     "execution_count": 106,
     "metadata": {},
     "output_type": "execute_result"
    }
   ],
   "source": [
    "ks_2samp(df.linehaulcost, y_train)"
   ]
  },
  {
   "cell_type": "markdown",
   "metadata": {},
   "source": [
    "## ANOVA Test"
   ]
  },
  {
   "cell_type": "code",
   "execution_count": 152,
   "metadata": {},
   "outputs": [],
   "source": [
    "df.source=df.source.astype('category').cat.codes\n",
    "df.destination=df.destination.astype('category').cat.codes\n",
    "df.truckingcompanyid=df.truckingcompanyid.astype('category').cat.codes\n",
    "df.productid=df.productid.astype('category').cat.codes"
   ]
  },
  {
   "cell_type": "code",
   "execution_count": 153,
   "metadata": {},
   "outputs": [
    {
     "data": {
      "image/png": "[encoded data removed]",
      "text/plain": [
       "<Figure size 432x288 with 1 Axes>"
      ]
     },
     "metadata": {
      "needs_background": "light"
     },
     "output_type": "display_data"
    }
   ],
   "source": [
    "df_1=df.sample(5000)\n",
    "df_1.linehaulcost.hist()\n",
    "plt.show()"
   ]
  },
  {
   "cell_type": "code",
   "execution_count": 154,
   "metadata": {},
   "outputs": [
    {
     "data": {
      "text/plain": [
       "F_onewayResult(statistic=array([1.76413517e-04, 6.21704356e-01, 2.34534697e-02, 1.12230449e+00,\n",
       "       1.00807492e-01, 7.80175133e-01, 3.81056109e-02]), pvalue=array([0.98940292, 0.43042687, 0.87828575, 0.28943952, 0.75086709,\n",
       "       0.37710148, 0.84523382]))"
      ]
     },
     "execution_count": 154,
     "metadata": {},
     "output_type": "execute_result"
    }
   ],
   "source": [
    "f_oneway(df, df_1)"
   ]
  },
  {
   "cell_type": "code",
   "execution_count": 151,
   "metadata": {},
   "outputs": [
    {
     "data": {
      "text/plain": [
       "F_onewayResult(statistic=array([0.73141791, 0.32400351, 0.25877837, 0.02013441, 0.25113823,\n",
       "       0.14212412, 0.52849765]), pvalue=array([0.39243738, 0.56921992, 0.61096802, 0.8871642 , 0.61628197,\n",
       "       0.70618364, 0.4672503 ]))"
      ]
     },
     "execution_count": 151,
     "metadata": {},
     "output_type": "execute_result"
    }
   ],
   "source": [
    "f_oneway(df, df_1)"
   ]
  },
  {
   "cell_type": "markdown",
   "metadata": {},
   "source": [
    "## Kruskal-Wallis "
   ]
  },
  {
   "cell_type": "code",
   "execution_count": 161,
   "metadata": {},
   "outputs": [
    {
     "data": {
      "text/plain": [
       "KruskalResult(statistic=0.0786071024598483, pvalue=0.7791939716739925)"
      ]
     },
     "execution_count": 161,
     "metadata": {},
     "output_type": "execute_result"
    }
   ],
   "source": [
    "kruskal(df.linehaulcost, df_1.linehaulcost)"
   ]
  },
  {
   "cell_type": "markdown",
   "metadata": {},
   "source": [
    "## Correlation"
   ]
  },
  {
   "cell_type": "code",
   "execution_count": 170,
   "metadata": {},
   "outputs": [],
   "source": [
    "from statsmodels.stats.outliers_influence import variance_inflation_factor "
   ]
  },
  {
   "cell_type": "code",
   "execution_count": 169,
   "metadata": {},
   "outputs": [
    {
     "data": {
      "text/plain": [
       "<AxesSubplot:>"
      ]
     },
     "execution_count": 169,
     "metadata": {},
     "output_type": "execute_result"
    },
    {
     "data": {
      "image/png": "[encoded data removed]",
      "text/plain": [
       "<Figure size 720x432 with 2 Axes>"
      ]
     },
     "metadata": {
      "needs_background": "light"
     },
     "output_type": "display_data"
    }
   ],
   "source": [
    "plt.figure(figsize=[10,6])\n",
    "sns.heatmap(df_1.corr(),annot=True,cmap='Blues')"
   ]
  },
  {
   "cell_type": "code",
   "execution_count": 453,
   "metadata": {},
   "outputs": [],
   "source": [
    "vif_data = pd.DataFrame() \n",
    "vif_data[\"feature\"] = df_1.columns "
   ]
  },
  {
   "cell_type": "code",
   "execution_count": 454,
   "metadata": {},
   "outputs": [],
   "source": [
    "vif_data[\"VIF\"] = [variance_inflation_factor(df_1.values, i) \n",
    "                          for i in range(len(df_1.columns))] \n",
    "  "
   ]
  },
  {
   "cell_type": "code",
   "execution_count": 455,
   "metadata": {},
   "outputs": [
    {
     "data": {
      "text/html": [
       "<div>\n",
       "<style scoped>\n",
       "    .dataframe tbody tr th:only-of-type {\n",
       "        vertical-align: middle;\n",
       "    }\n",
       "\n",
       "    .dataframe tbody tr th {\n",
       "        vertical-align: top;\n",
       "    }\n",
       "\n",
       "    .dataframe thead th {\n",
       "        text-align: right;\n",
       "    }\n",
       "</style>\n",
       "<table border=\"1\" class=\"dataframe\">\n",
       "  <thead>\n",
       "    <tr style=\"text-align: right;\">\n",
       "      <th></th>\n",
       "      <th>feature</th>\n",
       "      <th>VIF</th>\n",
       "    </tr>\n",
       "  </thead>\n",
       "  <tbody>\n",
       "    <tr>\n",
       "      <th>0</th>\n",
       "      <td>truckingcompanyid</td>\n",
       "      <td>3.778473</td>\n",
       "    </tr>\n",
       "    <tr>\n",
       "      <th>1</th>\n",
       "      <td>productid</td>\n",
       "      <td>3.595782</td>\n",
       "    </tr>\n",
       "    <tr>\n",
       "      <th>2</th>\n",
       "      <td>distanceinmiles</td>\n",
       "      <td>3.585605</td>\n",
       "    </tr>\n",
       "    <tr>\n",
       "      <th>3</th>\n",
       "      <td>fuelcost</td>\n",
       "      <td>10.773449</td>\n",
       "    </tr>\n",
       "    <tr>\n",
       "      <th>4</th>\n",
       "      <td>linehaulcost</td>\n",
       "      <td>1.501674</td>\n",
       "    </tr>\n",
       "    <tr>\n",
       "      <th>5</th>\n",
       "      <td>source</td>\n",
       "      <td>3.691528</td>\n",
       "    </tr>\n",
       "    <tr>\n",
       "      <th>6</th>\n",
       "      <td>destination</td>\n",
       "      <td>3.659924</td>\n",
       "    </tr>\n",
       "  </tbody>\n",
       "</table>\n",
       "</div>"
      ],
      "text/plain": [
       "             feature        VIF\n",
       "0  truckingcompanyid   3.778473\n",
       "1          productid   3.595782\n",
       "2    distanceinmiles   3.585605\n",
       "3           fuelcost  10.773449\n",
       "4       linehaulcost   1.501674\n",
       "5             source   3.691528\n",
       "6        destination   3.659924"
      ]
     },
     "execution_count": 455,
     "metadata": {},
     "output_type": "execute_result"
    }
   ],
   "source": [
    "vif_data"
   ]
  },
  {
   "cell_type": "code",
   "execution_count": 182,
   "metadata": {},
   "outputs": [],
   "source": [
    "vifs = pd.Series(np.linalg.inv(df_1.corr().to_numpy()).diagonal(), \n",
    "                 index=df_1.columns, \n",
    "                 name='VIF')"
   ]
  },
  {
   "cell_type": "code",
   "execution_count": 183,
   "metadata": {},
   "outputs": [
    {
     "data": {
      "text/plain": [
       "truckingcompanyid    1.000316\n",
       "productid            1.001061\n",
       "distanceinmiles      1.237089\n",
       "fuelcost             1.000735\n",
       "linehaulcost         1.229724\n",
       "source               1.004449\n",
       "destination          1.003805\n",
       "Name: VIF, dtype: float64"
      ]
     },
     "execution_count": 183,
     "metadata": {},
     "output_type": "execute_result"
    }
   ],
   "source": [
    "vifs"
   ]
  },
  {
   "cell_type": "code",
   "execution_count": 180,
   "metadata": {},
   "outputs": [],
   "source": [
    "vifs = pd.Series(np.linalg.inv(df.corr().to_numpy()).diagonal(), \n",
    "                 index=df.columns, \n",
    "                 name='VIF')"
   ]
  },
  {
   "cell_type": "code",
   "execution_count": 177,
   "metadata": {},
   "outputs": [],
   "source": [
    "vifs = pd.Series(np.linalg.inv(df.corr().to_numpy()).diagonal(), \n",
    "                 index=df.columns, \n",
    "                 name='VIF')"
   ]
  },
  {
   "cell_type": "code",
   "execution_count": 178,
   "metadata": {},
   "outputs": [
    {
     "data": {
      "text/plain": [
       "truckingcompanyid    1.000128\n",
       "productid            1.000669\n",
       "distanceinmiles      1.222514\n",
       "fuelcost             1.000270\n",
       "linehaulcost         1.215690\n",
       "source               1.003279\n",
       "destination          1.004197\n",
       "Name: VIF, dtype: float64"
      ]
     },
     "execution_count": 178,
     "metadata": {},
     "output_type": "execute_result"
    }
   ],
   "source": [
    "vifs"
   ]
  },
  {
   "cell_type": "code",
   "execution_count": 185,
   "metadata": {},
   "outputs": [],
   "source": [
    "from scipy.stats import pearsonr,spearmanr,kendalltau"
   ]
  },
  {
   "cell_type": "code",
   "execution_count": 187,
   "metadata": {},
   "outputs": [],
   "source": [
    "r, p = pearsonr(df['productid'], df['linehaulcost'])\n",
    "print(r,p)"
   ]
  },
  {
   "cell_type": "code",
   "execution_count": 189,
   "metadata": {},
   "outputs": [
    {
     "name": "stdout",
     "output_type": "stream",
     "text": [
      "0.0005661441075152972 0.9542175489307347\n"
     ]
    }
   ],
   "source": [
    "r, p = pearsonr(df['fuelcost'], df['linehaulcost'])\n",
    "print(r,p)"
   ]
  },
  {
   "cell_type": "code",
   "execution_count": 190,
   "metadata": {},
   "outputs": [
    {
     "name": "stdout",
     "output_type": "stream",
     "text": [
      "-0.42053615440857145 0.0\n"
     ]
    }
   ],
   "source": [
    "r, p = pearsonr(df['distanceinmiles'], df['linehaulcost'])\n",
    "print(r,p)"
   ]
  },
  {
   "cell_type": "code",
   "execution_count": 191,
   "metadata": {},
   "outputs": [
    {
     "name": "stdout",
     "output_type": "stream",
     "text": [
      "-0.004182500801447676 0.6714643016833661\n"
     ]
    }
   ],
   "source": [
    "r, p = pearsonr(df['source'], df['linehaulcost'])\n",
    "print(r,p)"
   ]
  },
  {
   "cell_type": "code",
   "execution_count": 192,
   "metadata": {},
   "outputs": [
    {
     "name": "stdout",
     "output_type": "stream",
     "text": [
      "-0.02463820833496867 0.012458623895924328\n"
     ]
    }
   ],
   "source": [
    "r, p = pearsonr(df['destination'], df['linehaulcost'])\n",
    "print(r,p)"
   ]
  },
  {
   "cell_type": "code",
   "execution_count": 193,
   "metadata": {},
   "outputs": [
    {
     "name": "stdout",
     "output_type": "stream",
     "text": [
      "-0.01583237356872664 0.10835665258736488\n"
     ]
    }
   ],
   "source": [
    "r, p = pearsonr(df['destination'], df['source'])\n",
    "print(r,p)"
   ]
  },
  {
   "cell_type": "code",
   "execution_count": 194,
   "metadata": {},
   "outputs": [
    {
     "name": "stdout",
     "output_type": "stream",
     "text": [
      "0.0055199599326622014 0.575636249113348\n"
     ]
    }
   ],
   "source": [
    "r, p = spearmanr(df['fuelcost'], df['linehaulcost'])\n",
    "print(r,p)"
   ]
  },
  {
   "cell_type": "code",
   "execution_count": 196,
   "metadata": {},
   "outputs": [
    {
     "name": "stdout",
     "output_type": "stream",
     "text": [
      "0.0036493850161988675 0.5793805826750741\n"
     ]
    }
   ],
   "source": [
    "r, p = kendalltau(df['fuelcost'], df['linehaulcost'])\n",
    "print(r,p)"
   ]
  },
  {
   "cell_type": "code",
   "execution_count": 197,
   "metadata": {},
   "outputs": [
    {
     "name": "stdout",
     "output_type": "stream",
     "text": [
      "-0.008806589075582561 0.37181844447876694\n"
     ]
    }
   ],
   "source": [
    "r, p = pearsonr(df['distanceinmiles'], df['fuelcost'])\n",
    "print(r,p)"
   ]
  },
  {
   "cell_type": "markdown",
   "metadata": {},
   "source": [
    "## Top 10 Expensive Companies"
   ]
  },
  {
   "cell_type": "code",
   "execution_count": 265,
   "metadata": {},
   "outputs": [],
   "source": [
    "a=df"
   ]
  },
  {
   "cell_type": "code",
   "execution_count": 266,
   "metadata": {},
   "outputs": [],
   "source": [
    "a.loc[:,'lhcpermile']=(a.linehaulcost/a.distanceinmiles).copy()\n",
    "a.loc[:,'fuelpermile']=(a.fuelcost/a.distanceinmiles).copy()\n",
    "a.loc[:,'tot_cost']=(a['lhcpermile']+a['fuelpermile']).copy()"
   ]
  },
  {
   "cell_type": "code",
   "execution_count": 267,
   "metadata": {},
   "outputs": [],
   "source": [
    "a_mean=a.groupby('truckingcompanyid')['tot_cost'].mean()"
   ]
  },
  {
   "cell_type": "code",
   "execution_count": 298,
   "metadata": {},
   "outputs": [
    {
     "data": {
      "text/plain": [
       "truckingcompanyid\n",
       "1699    358.111488\n",
       "6665    228.884710\n",
       "5287    211.747123\n",
       "8645    199.992191\n",
       "9108    191.294081\n",
       "6832    180.053535\n",
       "6857    178.405364\n",
       "2205    168.558364\n",
       "3849    161.222667\n",
       "1598    146.830970\n",
       "Name: tot_cost, dtype: float64"
      ]
     },
     "execution_count": 298,
     "metadata": {},
     "output_type": "execute_result"
    }
   ],
   "source": [
    "idx=a_mean.sort_values(ascending=False)[:10].index\n",
    "a_mean.sort_values(ascending=False)[:10]"
   ]
  },
  {
   "cell_type": "code",
   "execution_count": 269,
   "metadata": {},
   "outputs": [
    {
     "data": {
      "text/html": [
       "<div>\n",
       "<style scoped>\n",
       "    .dataframe tbody tr th:only-of-type {\n",
       "        vertical-align: middle;\n",
       "    }\n",
       "\n",
       "    .dataframe tbody tr th {\n",
       "        vertical-align: top;\n",
       "    }\n",
       "\n",
       "    .dataframe thead th {\n",
       "        text-align: right;\n",
       "    }\n",
       "</style>\n",
       "<table border=\"1\" class=\"dataframe\">\n",
       "  <thead>\n",
       "    <tr style=\"text-align: right;\">\n",
       "      <th></th>\n",
       "      <th>truckingcompanyid</th>\n",
       "      <th>productid</th>\n",
       "      <th>distanceinmiles</th>\n",
       "      <th>fuelcost</th>\n",
       "      <th>linehaulcost</th>\n",
       "      <th>source</th>\n",
       "      <th>destination</th>\n",
       "      <th>lhcpermile</th>\n",
       "      <th>fuelpermile</th>\n",
       "      <th>tot_cost</th>\n",
       "      <th>agg</th>\n",
       "    </tr>\n",
       "  </thead>\n",
       "  <tbody>\n",
       "    <tr>\n",
       "      <th>571</th>\n",
       "      <td>9108</td>\n",
       "      <td>7</td>\n",
       "      <td>97.32</td>\n",
       "      <td>5.59</td>\n",
       "      <td>18611.15</td>\n",
       "      <td>Fort Worth</td>\n",
       "      <td>Columbus</td>\n",
       "      <td>191.236642</td>\n",
       "      <td>0.057439</td>\n",
       "      <td>191.294081</td>\n",
       "      <td>1</td>\n",
       "    </tr>\n",
       "    <tr>\n",
       "      <th>735</th>\n",
       "      <td>8645</td>\n",
       "      <td>8</td>\n",
       "      <td>97.32</td>\n",
       "      <td>3.80</td>\n",
       "      <td>19459.44</td>\n",
       "      <td>Tampa</td>\n",
       "      <td>Tulsa</td>\n",
       "      <td>199.953144</td>\n",
       "      <td>0.039046</td>\n",
       "      <td>199.992191</td>\n",
       "      <td>1</td>\n",
       "    </tr>\n",
       "    <tr>\n",
       "      <th>1664</th>\n",
       "      <td>2205</td>\n",
       "      <td>8</td>\n",
       "      <td>97.32</td>\n",
       "      <td>3.42</td>\n",
       "      <td>16400.68</td>\n",
       "      <td>Oklahoma City</td>\n",
       "      <td>Detroit</td>\n",
       "      <td>168.523222</td>\n",
       "      <td>0.035142</td>\n",
       "      <td>168.558364</td>\n",
       "      <td>1</td>\n",
       "    </tr>\n",
       "    <tr>\n",
       "      <th>1949</th>\n",
       "      <td>3849</td>\n",
       "      <td>7</td>\n",
       "      <td>97.32</td>\n",
       "      <td>5.77</td>\n",
       "      <td>15684.42</td>\n",
       "      <td>Tulsa</td>\n",
       "      <td>Tampa</td>\n",
       "      <td>161.163379</td>\n",
       "      <td>0.059289</td>\n",
       "      <td>161.222667</td>\n",
       "      <td>1</td>\n",
       "    </tr>\n",
       "    <tr>\n",
       "      <th>4123</th>\n",
       "      <td>6665</td>\n",
       "      <td>20</td>\n",
       "      <td>97.32</td>\n",
       "      <td>7.02</td>\n",
       "      <td>22268.04</td>\n",
       "      <td>Chicago</td>\n",
       "      <td>Houston</td>\n",
       "      <td>228.812577</td>\n",
       "      <td>0.072133</td>\n",
       "      <td>228.884710</td>\n",
       "      <td>1</td>\n",
       "    </tr>\n",
       "    <tr>\n",
       "      <th>5986</th>\n",
       "      <td>1598</td>\n",
       "      <td>19</td>\n",
       "      <td>97.32</td>\n",
       "      <td>4.21</td>\n",
       "      <td>14285.38</td>\n",
       "      <td>Charlotte</td>\n",
       "      <td>Columbus</td>\n",
       "      <td>146.787711</td>\n",
       "      <td>0.043259</td>\n",
       "      <td>146.830970</td>\n",
       "      <td>1</td>\n",
       "    </tr>\n",
       "    <tr>\n",
       "      <th>6052</th>\n",
       "      <td>5287</td>\n",
       "      <td>8</td>\n",
       "      <td>97.32</td>\n",
       "      <td>6.49</td>\n",
       "      <td>20600.74</td>\n",
       "      <td>Albuquerque</td>\n",
       "      <td>Tucson</td>\n",
       "      <td>211.680436</td>\n",
       "      <td>0.066687</td>\n",
       "      <td>211.747123</td>\n",
       "      <td>1</td>\n",
       "    </tr>\n",
       "    <tr>\n",
       "      <th>6638</th>\n",
       "      <td>6857</td>\n",
       "      <td>3</td>\n",
       "      <td>97.32</td>\n",
       "      <td>5.09</td>\n",
       "      <td>17357.32</td>\n",
       "      <td>Boston</td>\n",
       "      <td>El Paso</td>\n",
       "      <td>178.353062</td>\n",
       "      <td>0.052302</td>\n",
       "      <td>178.405364</td>\n",
       "      <td>1</td>\n",
       "    </tr>\n",
       "    <tr>\n",
       "      <th>7008</th>\n",
       "      <td>1699</td>\n",
       "      <td>2</td>\n",
       "      <td>97.32</td>\n",
       "      <td>5.88</td>\n",
       "      <td>34845.53</td>\n",
       "      <td>San Antonio</td>\n",
       "      <td>San Diego</td>\n",
       "      <td>358.051069</td>\n",
       "      <td>0.060419</td>\n",
       "      <td>358.111488</td>\n",
       "      <td>1</td>\n",
       "    </tr>\n",
       "    <tr>\n",
       "      <th>9703</th>\n",
       "      <td>6832</td>\n",
       "      <td>12</td>\n",
       "      <td>97.32</td>\n",
       "      <td>4.89</td>\n",
       "      <td>17517.92</td>\n",
       "      <td>Albuquerque</td>\n",
       "      <td>Tucson</td>\n",
       "      <td>180.003288</td>\n",
       "      <td>0.050247</td>\n",
       "      <td>180.053535</td>\n",
       "      <td>1</td>\n",
       "    </tr>\n",
       "  </tbody>\n",
       "</table>\n",
       "</div>"
      ],
      "text/plain": [
       "      truckingcompanyid  productid  distanceinmiles  fuelcost  linehaulcost  \\\n",
       "571                9108          7            97.32      5.59      18611.15   \n",
       "735                8645          8            97.32      3.80      19459.44   \n",
       "1664               2205          8            97.32      3.42      16400.68   \n",
       "1949               3849          7            97.32      5.77      15684.42   \n",
       "4123               6665         20            97.32      7.02      22268.04   \n",
       "5986               1598         19            97.32      4.21      14285.38   \n",
       "6052               5287          8            97.32      6.49      20600.74   \n",
       "6638               6857          3            97.32      5.09      17357.32   \n",
       "7008               1699          2            97.32      5.88      34845.53   \n",
       "9703               6832         12            97.32      4.89      17517.92   \n",
       "\n",
       "             source destination  lhcpermile  fuelpermile    tot_cost  agg  \n",
       "571      Fort Worth    Columbus  191.236642     0.057439  191.294081    1  \n",
       "735           Tampa       Tulsa  199.953144     0.039046  199.992191    1  \n",
       "1664  Oklahoma City     Detroit  168.523222     0.035142  168.558364    1  \n",
       "1949          Tulsa       Tampa  161.163379     0.059289  161.222667    1  \n",
       "4123        Chicago     Houston  228.812577     0.072133  228.884710    1  \n",
       "5986      Charlotte    Columbus  146.787711     0.043259  146.830970    1  \n",
       "6052    Albuquerque      Tucson  211.680436     0.066687  211.747123    1  \n",
       "6638         Boston     El Paso  178.353062     0.052302  178.405364    1  \n",
       "7008    San Antonio   San Diego  358.051069     0.060419  358.111488    1  \n",
       "9703    Albuquerque      Tucson  180.003288     0.050247  180.053535    1  "
      ]
     },
     "execution_count": 269,
     "metadata": {},
     "output_type": "execute_result"
    }
   ],
   "source": [
    "df[df.truckingcompanyid.isin(idx)]"
   ]
  },
  {
   "cell_type": "markdown",
   "metadata": {},
   "source": [
    "## Top 10 most source-destinated companies"
   ]
  },
  {
   "cell_type": "code",
   "execution_count": 270,
   "metadata": {},
   "outputs": [],
   "source": [
    "b=df\n",
    "b['agg']=1"
   ]
  },
  {
   "cell_type": "code",
   "execution_count": 272,
   "metadata": {},
   "outputs": [
    {
     "data": {
      "text/plain": [
       "truckingcompanyid  source        destination  \n",
       "1001               Charlotte     Las Vegas        1\n",
       "                   Philadelphia  Milwaukee        1\n",
       "1002               Las Vegas     Oklahoma City    1\n",
       "1003               Nashville     Houston          1\n",
       "1004               Louisville    Arlington        1\n",
       "                                                 ..\n",
       "9992               Kansas City   Tucson           1\n",
       "9993               Charlotte     Miami            1\n",
       "9995               Oakland       Boston           1\n",
       "                   Tucson        Jacksonville     1\n",
       "9998               Dallas        Omaha            1\n",
       "Name: agg, Length: 10282, dtype: int64"
      ]
     },
     "execution_count": 272,
     "metadata": {},
     "output_type": "execute_result"
    }
   ],
   "source": [
    "sd=b.groupby(['truckingcompanyid','source','destination'])['agg'].sum()\n",
    "b.groupby(['truckingcompanyid','source','destination'])['agg'].sum()"
   ]
  },
  {
   "cell_type": "code",
   "execution_count": 279,
   "metadata": {},
   "outputs": [],
   "source": [
    "sd_df=pd.DataFrame(sd).reset_index()"
   ]
  },
  {
   "cell_type": "code",
   "execution_count": 286,
   "metadata": {},
   "outputs": [
    {
     "data": {
      "text/plain": [
       "<bound method DataFrame.aggregate of        truckingcompanyid        source    destination  agg\n",
       "0                   1001     Charlotte      Las Vegas    1\n",
       "1                   1001  Philadelphia      Milwaukee    1\n",
       "2                   1002     Las Vegas  Oklahoma City    1\n",
       "3                   1003     Nashville        Houston    1\n",
       "4                   1004    Louisville      Arlington    1\n",
       "...                  ...           ...            ...  ...\n",
       "10277               9992   Kansas City         Tucson    1\n",
       "10278               9993     Charlotte          Miami    1\n",
       "10279               9995       Oakland         Boston    1\n",
       "10280               9995        Tucson   Jacksonville    1\n",
       "10281               9998        Dallas          Omaha    1\n",
       "\n",
       "[10282 rows x 4 columns]>"
      ]
     },
     "execution_count": 286,
     "metadata": {},
     "output_type": "execute_result"
    }
   ],
   "source": [
    "sd_df.agg"
   ]
  },
  {
   "cell_type": "code",
   "execution_count": 302,
   "metadata": {},
   "outputs": [
    {
     "data": {
      "text/plain": [
       "truckingcompanyid  source    destination\n",
       "1506               Oakland   New Orleans    2\n",
       "4352               Boston    Fort Worth     2\n",
       "6417               Portland  Arlington      2\n",
       "7443               Memphis   Boston         2\n",
       "Name: agg, dtype: int64"
      ]
     },
     "execution_count": 302,
     "metadata": {},
     "output_type": "execute_result"
    }
   ],
   "source": [
    "idx=sd[(sd>1)].index\n",
    "sd[(sd>1)]"
   ]
  },
  {
   "cell_type": "code",
   "execution_count": 305,
   "metadata": {},
   "outputs": [
    {
     "data": {
      "text/html": [
       "<div>\n",
       "<style scoped>\n",
       "    .dataframe tbody tr th:only-of-type {\n",
       "        vertical-align: middle;\n",
       "    }\n",
       "\n",
       "    .dataframe tbody tr th {\n",
       "        vertical-align: top;\n",
       "    }\n",
       "\n",
       "    .dataframe thead th {\n",
       "        text-align: right;\n",
       "    }\n",
       "</style>\n",
       "<table border=\"1\" class=\"dataframe\">\n",
       "  <thead>\n",
       "    <tr style=\"text-align: right;\">\n",
       "      <th></th>\n",
       "      <th>truckingcompanyid</th>\n",
       "      <th>productid</th>\n",
       "      <th>distanceinmiles</th>\n",
       "      <th>fuelcost</th>\n",
       "      <th>linehaulcost</th>\n",
       "      <th>source</th>\n",
       "      <th>destination</th>\n",
       "      <th>lhcpermile</th>\n",
       "      <th>fuelpermile</th>\n",
       "      <th>tot_cost</th>\n",
       "      <th>agg</th>\n",
       "    </tr>\n",
       "  </thead>\n",
       "  <tbody>\n",
       "    <tr>\n",
       "      <th>292</th>\n",
       "      <td>1506</td>\n",
       "      <td>21</td>\n",
       "      <td>486.60</td>\n",
       "      <td>3.72</td>\n",
       "      <td>1242.72</td>\n",
       "      <td>Oakland</td>\n",
       "      <td>New Orleans</td>\n",
       "      <td>2.553884</td>\n",
       "      <td>0.007645</td>\n",
       "      <td>2.561529</td>\n",
       "      <td>1</td>\n",
       "    </tr>\n",
       "    <tr>\n",
       "      <th>8760</th>\n",
       "      <td>1506</td>\n",
       "      <td>3</td>\n",
       "      <td>486.60</td>\n",
       "      <td>5.32</td>\n",
       "      <td>1585.41</td>\n",
       "      <td>Oakland</td>\n",
       "      <td>New Orleans</td>\n",
       "      <td>3.258138</td>\n",
       "      <td>0.010933</td>\n",
       "      <td>3.269071</td>\n",
       "      <td>1</td>\n",
       "    </tr>\n",
       "    <tr>\n",
       "      <th>608</th>\n",
       "      <td>4352</td>\n",
       "      <td>3</td>\n",
       "      <td>778.56</td>\n",
       "      <td>7.70</td>\n",
       "      <td>1313.77</td>\n",
       "      <td>Boston</td>\n",
       "      <td>Fort Worth</td>\n",
       "      <td>1.687436</td>\n",
       "      <td>0.009890</td>\n",
       "      <td>1.697326</td>\n",
       "      <td>1</td>\n",
       "    </tr>\n",
       "    <tr>\n",
       "      <th>5710</th>\n",
       "      <td>4352</td>\n",
       "      <td>3</td>\n",
       "      <td>291.96</td>\n",
       "      <td>4.41</td>\n",
       "      <td>8668.78</td>\n",
       "      <td>Albuquerque</td>\n",
       "      <td>Louisville</td>\n",
       "      <td>29.691670</td>\n",
       "      <td>0.015105</td>\n",
       "      <td>29.706775</td>\n",
       "      <td>1</td>\n",
       "    </tr>\n",
       "    <tr>\n",
       "      <th>5722</th>\n",
       "      <td>4352</td>\n",
       "      <td>17</td>\n",
       "      <td>778.56</td>\n",
       "      <td>4.77</td>\n",
       "      <td>1293.29</td>\n",
       "      <td>Boston</td>\n",
       "      <td>Fort Worth</td>\n",
       "      <td>1.661131</td>\n",
       "      <td>0.006127</td>\n",
       "      <td>1.667258</td>\n",
       "      <td>1</td>\n",
       "    </tr>\n",
       "    <tr>\n",
       "      <th>9375</th>\n",
       "      <td>4352</td>\n",
       "      <td>1</td>\n",
       "      <td>2335.68</td>\n",
       "      <td>5.07</td>\n",
       "      <td>876.92</td>\n",
       "      <td>Chicago</td>\n",
       "      <td>Las Vegas</td>\n",
       "      <td>0.375445</td>\n",
       "      <td>0.002171</td>\n",
       "      <td>0.377616</td>\n",
       "      <td>1</td>\n",
       "    </tr>\n",
       "    <tr>\n",
       "      <th>3494</th>\n",
       "      <td>6417</td>\n",
       "      <td>13</td>\n",
       "      <td>1167.84</td>\n",
       "      <td>3.80</td>\n",
       "      <td>512.45</td>\n",
       "      <td>Louisville</td>\n",
       "      <td>Indianapolis</td>\n",
       "      <td>0.438802</td>\n",
       "      <td>0.003254</td>\n",
       "      <td>0.442055</td>\n",
       "      <td>1</td>\n",
       "    </tr>\n",
       "    <tr>\n",
       "      <th>7686</th>\n",
       "      <td>6417</td>\n",
       "      <td>5</td>\n",
       "      <td>2238.36</td>\n",
       "      <td>4.39</td>\n",
       "      <td>93.04</td>\n",
       "      <td>Portland</td>\n",
       "      <td>Arlington</td>\n",
       "      <td>0.041566</td>\n",
       "      <td>0.001961</td>\n",
       "      <td>0.043527</td>\n",
       "      <td>1</td>\n",
       "    </tr>\n",
       "    <tr>\n",
       "      <th>10208</th>\n",
       "      <td>6417</td>\n",
       "      <td>12</td>\n",
       "      <td>2238.36</td>\n",
       "      <td>5.03</td>\n",
       "      <td>122.32</td>\n",
       "      <td>Portland</td>\n",
       "      <td>Arlington</td>\n",
       "      <td>0.054647</td>\n",
       "      <td>0.002247</td>\n",
       "      <td>0.056894</td>\n",
       "      <td>1</td>\n",
       "    </tr>\n",
       "    <tr>\n",
       "      <th>3744</th>\n",
       "      <td>7443</td>\n",
       "      <td>22</td>\n",
       "      <td>681.24</td>\n",
       "      <td>5.04</td>\n",
       "      <td>146.08</td>\n",
       "      <td>Memphis</td>\n",
       "      <td>Boston</td>\n",
       "      <td>0.214433</td>\n",
       "      <td>0.007398</td>\n",
       "      <td>0.221831</td>\n",
       "      <td>1</td>\n",
       "    </tr>\n",
       "    <tr>\n",
       "      <th>9930</th>\n",
       "      <td>7443</td>\n",
       "      <td>8</td>\n",
       "      <td>681.24</td>\n",
       "      <td>6.59</td>\n",
       "      <td>502.70</td>\n",
       "      <td>Memphis</td>\n",
       "      <td>Boston</td>\n",
       "      <td>0.737919</td>\n",
       "      <td>0.009674</td>\n",
       "      <td>0.747593</td>\n",
       "      <td>1</td>\n",
       "    </tr>\n",
       "  </tbody>\n",
       "</table>\n",
       "</div>"
      ],
      "text/plain": [
       "       truckingcompanyid  productid  distanceinmiles  fuelcost  linehaulcost  \\\n",
       "292                 1506         21           486.60      3.72       1242.72   \n",
       "8760                1506          3           486.60      5.32       1585.41   \n",
       "608                 4352          3           778.56      7.70       1313.77   \n",
       "5710                4352          3           291.96      4.41       8668.78   \n",
       "5722                4352         17           778.56      4.77       1293.29   \n",
       "9375                4352          1          2335.68      5.07        876.92   \n",
       "3494                6417         13          1167.84      3.80        512.45   \n",
       "7686                6417          5          2238.36      4.39         93.04   \n",
       "10208               6417         12          2238.36      5.03        122.32   \n",
       "3744                7443         22           681.24      5.04        146.08   \n",
       "9930                7443          8           681.24      6.59        502.70   \n",
       "\n",
       "            source   destination  lhcpermile  fuelpermile   tot_cost  agg  \n",
       "292        Oakland   New Orleans    2.553884     0.007645   2.561529    1  \n",
       "8760       Oakland   New Orleans    3.258138     0.010933   3.269071    1  \n",
       "608         Boston    Fort Worth    1.687436     0.009890   1.697326    1  \n",
       "5710   Albuquerque    Louisville   29.691670     0.015105  29.706775    1  \n",
       "5722        Boston    Fort Worth    1.661131     0.006127   1.667258    1  \n",
       "9375       Chicago     Las Vegas    0.375445     0.002171   0.377616    1  \n",
       "3494    Louisville  Indianapolis    0.438802     0.003254   0.442055    1  \n",
       "7686      Portland     Arlington    0.041566     0.001961   0.043527    1  \n",
       "10208     Portland     Arlington    0.054647     0.002247   0.056894    1  \n",
       "3744       Memphis        Boston    0.214433     0.007398   0.221831    1  \n",
       "9930       Memphis        Boston    0.737919     0.009674   0.747593    1  "
      ]
     },
     "execution_count": 305,
     "metadata": {},
     "output_type": "execute_result"
    }
   ],
   "source": [
    "df[df.truckingcompanyid.isin([1506,4352,6417,7443])].sort_values(by='truckingcompanyid')"
   ]
  },
  {
   "cell_type": "code",
   "execution_count": 313,
   "metadata": {},
   "outputs": [
    {
     "data": {
      "text/html": [
       "<div>\n",
       "<style scoped>\n",
       "    .dataframe tbody tr th:only-of-type {\n",
       "        vertical-align: middle;\n",
       "    }\n",
       "\n",
       "    .dataframe tbody tr th {\n",
       "        vertical-align: top;\n",
       "    }\n",
       "\n",
       "    .dataframe thead th {\n",
       "        text-align: right;\n",
       "    }\n",
       "</style>\n",
       "<table border=\"1\" class=\"dataframe\">\n",
       "  <thead>\n",
       "    <tr style=\"text-align: right;\">\n",
       "      <th></th>\n",
       "      <th>truckingcompanyid</th>\n",
       "      <th>productid</th>\n",
       "      <th>distanceinmiles</th>\n",
       "      <th>fuelcost</th>\n",
       "      <th>linehaulcost</th>\n",
       "      <th>source</th>\n",
       "      <th>destination</th>\n",
       "      <th>lhcpermile</th>\n",
       "      <th>fuelpermile</th>\n",
       "      <th>tot_cost</th>\n",
       "      <th>agg</th>\n",
       "    </tr>\n",
       "  </thead>\n",
       "  <tbody>\n",
       "    <tr>\n",
       "      <th>4601</th>\n",
       "      <td>7830</td>\n",
       "      <td>18</td>\n",
       "      <td>486.6</td>\n",
       "      <td>5.96</td>\n",
       "      <td>873.43</td>\n",
       "      <td>New Orleans</td>\n",
       "      <td>Oakland</td>\n",
       "      <td>1.794965</td>\n",
       "      <td>0.012248</td>\n",
       "      <td>1.807213</td>\n",
       "      <td>1</td>\n",
       "    </tr>\n",
       "    <tr>\n",
       "      <th>5935</th>\n",
       "      <td>2854</td>\n",
       "      <td>1</td>\n",
       "      <td>486.6</td>\n",
       "      <td>5.55</td>\n",
       "      <td>584.13</td>\n",
       "      <td>New Orleans</td>\n",
       "      <td>Oakland</td>\n",
       "      <td>1.200432</td>\n",
       "      <td>0.011406</td>\n",
       "      <td>1.211837</td>\n",
       "      <td>1</td>\n",
       "    </tr>\n",
       "    <tr>\n",
       "      <th>7040</th>\n",
       "      <td>7797</td>\n",
       "      <td>1</td>\n",
       "      <td>486.6</td>\n",
       "      <td>4.11</td>\n",
       "      <td>1873.54</td>\n",
       "      <td>New Orleans</td>\n",
       "      <td>Oakland</td>\n",
       "      <td>3.850267</td>\n",
       "      <td>0.008446</td>\n",
       "      <td>3.858714</td>\n",
       "      <td>1</td>\n",
       "    </tr>\n",
       "    <tr>\n",
       "      <th>7928</th>\n",
       "      <td>2824</td>\n",
       "      <td>10</td>\n",
       "      <td>486.6</td>\n",
       "      <td>5.56</td>\n",
       "      <td>346.66</td>\n",
       "      <td>New Orleans</td>\n",
       "      <td>Oakland</td>\n",
       "      <td>0.712413</td>\n",
       "      <td>0.011426</td>\n",
       "      <td>0.723839</td>\n",
       "      <td>1</td>\n",
       "    </tr>\n",
       "  </tbody>\n",
       "</table>\n",
       "</div>"
      ],
      "text/plain": [
       "      truckingcompanyid  productid  distanceinmiles  fuelcost  linehaulcost  \\\n",
       "4601               7830         18            486.6      5.96        873.43   \n",
       "5935               2854          1            486.6      5.55        584.13   \n",
       "7040               7797          1            486.6      4.11       1873.54   \n",
       "7928               2824         10            486.6      5.56        346.66   \n",
       "\n",
       "           source destination  lhcpermile  fuelpermile  tot_cost  agg  \n",
       "4601  New Orleans     Oakland    1.794965     0.012248  1.807213    1  \n",
       "5935  New Orleans     Oakland    1.200432     0.011406  1.211837    1  \n",
       "7040  New Orleans     Oakland    3.850267     0.008446  3.858714    1  \n",
       "7928  New Orleans     Oakland    0.712413     0.011426  0.723839    1  "
      ]
     },
     "execution_count": 313,
     "metadata": {},
     "output_type": "execute_result"
    }
   ],
   "source": [
    "df[(df.source==\"New Orleans\") & (df.destination==\"Oakland\")]"
   ]
  },
  {
   "cell_type": "code",
   "execution_count": 314,
   "metadata": {},
   "outputs": [
    {
     "data": {
      "text/plain": [
       "source       destination   \n",
       "Albuquerque  Arlington          5\n",
       "             Atlanta            5\n",
       "             Austin             4\n",
       "             Baltimore          4\n",
       "             Boston             4\n",
       "                               ..\n",
       "Washington   Seattle            5\n",
       "             Tampa              4\n",
       "             Tucson             9\n",
       "             Tulsa             10\n",
       "             Virginia Beach     6\n",
       "Name: agg, Length: 2312, dtype: int64"
      ]
     },
     "execution_count": 314,
     "metadata": {},
     "output_type": "execute_result"
    }
   ],
   "source": [
    "sd_1=b.groupby(['source','destination'])['agg'].sum()\n",
    "b.groupby(['source','destination'])['agg'].sum()"
   ]
  },
  {
   "cell_type": "code",
   "execution_count": 324,
   "metadata": {},
   "outputs": [
    {
     "data": {
      "text/plain": [
       "array([ 5,  5,  4, ...,  9, 10,  6], dtype=int64)"
      ]
     },
     "execution_count": 324,
     "metadata": {},
     "output_type": "execute_result"
    }
   ],
   "source": [
    "sd_1.ravel()"
   ]
  },
  {
   "cell_type": "code",
   "execution_count": 328,
   "metadata": {},
   "outputs": [],
   "source": [
    "bc=pd.DataFrame(sd_1.index)"
   ]
  },
  {
   "cell_type": "code",
   "execution_count": 329,
   "metadata": {},
   "outputs": [],
   "source": [
    "bc['src_dest_sum']=sd_1.ravel()"
   ]
  },
  {
   "cell_type": "code",
   "execution_count": 334,
   "metadata": {},
   "outputs": [
    {
     "data": {
      "text/html": [
       "<div>\n",
       "<style scoped>\n",
       "    .dataframe tbody tr th:only-of-type {\n",
       "        vertical-align: middle;\n",
       "    }\n",
       "\n",
       "    .dataframe tbody tr th {\n",
       "        vertical-align: top;\n",
       "    }\n",
       "\n",
       "    .dataframe thead th {\n",
       "        text-align: right;\n",
       "    }\n",
       "</style>\n",
       "<table border=\"1\" class=\"dataframe\">\n",
       "  <thead>\n",
       "    <tr style=\"text-align: right;\">\n",
       "      <th></th>\n",
       "      <th>0</th>\n",
       "      <th>src_dest_sum</th>\n",
       "    </tr>\n",
       "  </thead>\n",
       "  <tbody>\n",
       "    <tr>\n",
       "      <th>305</th>\n",
       "      <td>(Charlotte, Las Vegas)</td>\n",
       "      <td>16</td>\n",
       "    </tr>\n",
       "    <tr>\n",
       "      <th>587</th>\n",
       "      <td>(Detroit, Fresno)</td>\n",
       "      <td>12</td>\n",
       "    </tr>\n",
       "    <tr>\n",
       "      <th>1509</th>\n",
       "      <td>(Oklahoma City, Albuquerque)</td>\n",
       "      <td>12</td>\n",
       "    </tr>\n",
       "    <tr>\n",
       "      <th>1859</th>\n",
       "      <td>(San Antonio, Indianapolis)</td>\n",
       "      <td>12</td>\n",
       "    </tr>\n",
       "    <tr>\n",
       "      <th>1681</th>\n",
       "      <td>(Phoenix, Minneapolis)</td>\n",
       "      <td>12</td>\n",
       "    </tr>\n",
       "    <tr>\n",
       "      <th>1862</th>\n",
       "      <td>(San Antonio, Las Vegas)</td>\n",
       "      <td>12</td>\n",
       "    </tr>\n",
       "    <tr>\n",
       "      <th>1362</th>\n",
       "      <td>(Minneapolis, Seattle)</td>\n",
       "      <td>11</td>\n",
       "    </tr>\n",
       "    <tr>\n",
       "      <th>121</th>\n",
       "      <td>(Atlanta, Miami)</td>\n",
       "      <td>11</td>\n",
       "    </tr>\n",
       "    <tr>\n",
       "      <th>1627</th>\n",
       "      <td>(Philadelphia, Los Angeles)</td>\n",
       "      <td>11</td>\n",
       "    </tr>\n",
       "    <tr>\n",
       "      <th>1068</th>\n",
       "      <td>(Los Angeles, Nashville)</td>\n",
       "      <td>11</td>\n",
       "    </tr>\n",
       "  </tbody>\n",
       "</table>\n",
       "</div>"
      ],
      "text/plain": [
       "                                 0  src_dest_sum\n",
       "305         (Charlotte, Las Vegas)            16\n",
       "587              (Detroit, Fresno)            12\n",
       "1509  (Oklahoma City, Albuquerque)            12\n",
       "1859   (San Antonio, Indianapolis)            12\n",
       "1681        (Phoenix, Minneapolis)            12\n",
       "1862      (San Antonio, Las Vegas)            12\n",
       "1362        (Minneapolis, Seattle)            11\n",
       "121               (Atlanta, Miami)            11\n",
       "1627   (Philadelphia, Los Angeles)            11\n",
       "1068      (Los Angeles, Nashville)            11"
      ]
     },
     "execution_count": 334,
     "metadata": {},
     "output_type": "execute_result"
    }
   ],
   "source": [
    "bc.sort_values('src_dest_sum',ascending=False)[:10]"
   ]
  },
  {
   "cell_type": "code",
   "execution_count": 341,
   "metadata": {},
   "outputs": [
    {
     "data": {
      "text/html": [
       "<div>\n",
       "<style scoped>\n",
       "    .dataframe tbody tr th:only-of-type {\n",
       "        vertical-align: middle;\n",
       "    }\n",
       "\n",
       "    .dataframe tbody tr th {\n",
       "        vertical-align: top;\n",
       "    }\n",
       "\n",
       "    .dataframe thead th {\n",
       "        text-align: right;\n",
       "    }\n",
       "</style>\n",
       "<table border=\"1\" class=\"dataframe\">\n",
       "  <thead>\n",
       "    <tr style=\"text-align: right;\">\n",
       "      <th></th>\n",
       "      <th>truckingcompanyid</th>\n",
       "      <th>productid</th>\n",
       "      <th>distanceinmiles</th>\n",
       "      <th>fuelcost</th>\n",
       "      <th>linehaulcost</th>\n",
       "      <th>source</th>\n",
       "      <th>destination</th>\n",
       "      <th>lhcpermile</th>\n",
       "      <th>fuelpermile</th>\n",
       "      <th>tot_cost</th>\n",
       "      <th>agg</th>\n",
       "    </tr>\n",
       "  </thead>\n",
       "  <tbody>\n",
       "    <tr>\n",
       "      <th>412</th>\n",
       "      <td>4016</td>\n",
       "      <td>4</td>\n",
       "      <td>1167.84</td>\n",
       "      <td>5.28</td>\n",
       "      <td>93.46</td>\n",
       "      <td>Charlotte</td>\n",
       "      <td>Las Vegas</td>\n",
       "      <td>0.080028</td>\n",
       "      <td>0.004521</td>\n",
       "      <td>0.084549</td>\n",
       "      <td>1</td>\n",
       "    </tr>\n",
       "    <tr>\n",
       "      <th>1234</th>\n",
       "      <td>1328</td>\n",
       "      <td>19</td>\n",
       "      <td>1167.84</td>\n",
       "      <td>5.98</td>\n",
       "      <td>73.55</td>\n",
       "      <td>Charlotte</td>\n",
       "      <td>Las Vegas</td>\n",
       "      <td>0.062980</td>\n",
       "      <td>0.005121</td>\n",
       "      <td>0.068100</td>\n",
       "      <td>1</td>\n",
       "    </tr>\n",
       "    <tr>\n",
       "      <th>1796</th>\n",
       "      <td>1755</td>\n",
       "      <td>14</td>\n",
       "      <td>1167.84</td>\n",
       "      <td>5.65</td>\n",
       "      <td>292.61</td>\n",
       "      <td>Charlotte</td>\n",
       "      <td>Las Vegas</td>\n",
       "      <td>0.250557</td>\n",
       "      <td>0.004838</td>\n",
       "      <td>0.255395</td>\n",
       "      <td>1</td>\n",
       "    </tr>\n",
       "    <tr>\n",
       "      <th>2722</th>\n",
       "      <td>1001</td>\n",
       "      <td>21</td>\n",
       "      <td>1167.84</td>\n",
       "      <td>5.67</td>\n",
       "      <td>226.86</td>\n",
       "      <td>Charlotte</td>\n",
       "      <td>Las Vegas</td>\n",
       "      <td>0.194256</td>\n",
       "      <td>0.004855</td>\n",
       "      <td>0.199111</td>\n",
       "      <td>1</td>\n",
       "    </tr>\n",
       "    <tr>\n",
       "      <th>3103</th>\n",
       "      <td>6111</td>\n",
       "      <td>4</td>\n",
       "      <td>1167.84</td>\n",
       "      <td>6.71</td>\n",
       "      <td>137.91</td>\n",
       "      <td>Charlotte</td>\n",
       "      <td>Las Vegas</td>\n",
       "      <td>0.118090</td>\n",
       "      <td>0.005746</td>\n",
       "      <td>0.123835</td>\n",
       "      <td>1</td>\n",
       "    </tr>\n",
       "    <tr>\n",
       "      <th>3267</th>\n",
       "      <td>7561</td>\n",
       "      <td>22</td>\n",
       "      <td>1167.84</td>\n",
       "      <td>5.97</td>\n",
       "      <td>743.56</td>\n",
       "      <td>Charlotte</td>\n",
       "      <td>Las Vegas</td>\n",
       "      <td>0.636697</td>\n",
       "      <td>0.005112</td>\n",
       "      <td>0.641809</td>\n",
       "      <td>1</td>\n",
       "    </tr>\n",
       "    <tr>\n",
       "      <th>4008</th>\n",
       "      <td>2726</td>\n",
       "      <td>12</td>\n",
       "      <td>1167.84</td>\n",
       "      <td>4.99</td>\n",
       "      <td>160.42</td>\n",
       "      <td>Charlotte</td>\n",
       "      <td>Las Vegas</td>\n",
       "      <td>0.137365</td>\n",
       "      <td>0.004273</td>\n",
       "      <td>0.141638</td>\n",
       "      <td>1</td>\n",
       "    </tr>\n",
       "    <tr>\n",
       "      <th>4632</th>\n",
       "      <td>4417</td>\n",
       "      <td>20</td>\n",
       "      <td>1167.84</td>\n",
       "      <td>6.42</td>\n",
       "      <td>432.82</td>\n",
       "      <td>Charlotte</td>\n",
       "      <td>Las Vegas</td>\n",
       "      <td>0.370616</td>\n",
       "      <td>0.005497</td>\n",
       "      <td>0.376113</td>\n",
       "      <td>1</td>\n",
       "    </tr>\n",
       "    <tr>\n",
       "      <th>4800</th>\n",
       "      <td>4551</td>\n",
       "      <td>11</td>\n",
       "      <td>1167.84</td>\n",
       "      <td>6.67</td>\n",
       "      <td>403.63</td>\n",
       "      <td>Charlotte</td>\n",
       "      <td>Las Vegas</td>\n",
       "      <td>0.345621</td>\n",
       "      <td>0.005711</td>\n",
       "      <td>0.351332</td>\n",
       "      <td>1</td>\n",
       "    </tr>\n",
       "    <tr>\n",
       "      <th>5055</th>\n",
       "      <td>7550</td>\n",
       "      <td>11</td>\n",
       "      <td>1167.84</td>\n",
       "      <td>5.28</td>\n",
       "      <td>315.28</td>\n",
       "      <td>Charlotte</td>\n",
       "      <td>Las Vegas</td>\n",
       "      <td>0.269968</td>\n",
       "      <td>0.004521</td>\n",
       "      <td>0.274490</td>\n",
       "      <td>1</td>\n",
       "    </tr>\n",
       "    <tr>\n",
       "      <th>6424</th>\n",
       "      <td>9888</td>\n",
       "      <td>21</td>\n",
       "      <td>1167.84</td>\n",
       "      <td>6.44</td>\n",
       "      <td>873.48</td>\n",
       "      <td>Charlotte</td>\n",
       "      <td>Las Vegas</td>\n",
       "      <td>0.747945</td>\n",
       "      <td>0.005514</td>\n",
       "      <td>0.753459</td>\n",
       "      <td>1</td>\n",
       "    </tr>\n",
       "    <tr>\n",
       "      <th>6461</th>\n",
       "      <td>2160</td>\n",
       "      <td>15</td>\n",
       "      <td>1167.84</td>\n",
       "      <td>6.27</td>\n",
       "      <td>425.63</td>\n",
       "      <td>Charlotte</td>\n",
       "      <td>Las Vegas</td>\n",
       "      <td>0.364459</td>\n",
       "      <td>0.005369</td>\n",
       "      <td>0.369828</td>\n",
       "      <td>1</td>\n",
       "    </tr>\n",
       "    <tr>\n",
       "      <th>7361</th>\n",
       "      <td>9839</td>\n",
       "      <td>13</td>\n",
       "      <td>1167.84</td>\n",
       "      <td>4.18</td>\n",
       "      <td>322.02</td>\n",
       "      <td>Charlotte</td>\n",
       "      <td>Las Vegas</td>\n",
       "      <td>0.275740</td>\n",
       "      <td>0.003579</td>\n",
       "      <td>0.279319</td>\n",
       "      <td>1</td>\n",
       "    </tr>\n",
       "    <tr>\n",
       "      <th>8913</th>\n",
       "      <td>4928</td>\n",
       "      <td>9</td>\n",
       "      <td>1167.84</td>\n",
       "      <td>6.71</td>\n",
       "      <td>1042.41</td>\n",
       "      <td>Charlotte</td>\n",
       "      <td>Las Vegas</td>\n",
       "      <td>0.892597</td>\n",
       "      <td>0.005746</td>\n",
       "      <td>0.898342</td>\n",
       "      <td>1</td>\n",
       "    </tr>\n",
       "    <tr>\n",
       "      <th>9630</th>\n",
       "      <td>5505</td>\n",
       "      <td>19</td>\n",
       "      <td>1167.84</td>\n",
       "      <td>6.55</td>\n",
       "      <td>619.88</td>\n",
       "      <td>Charlotte</td>\n",
       "      <td>Las Vegas</td>\n",
       "      <td>0.530792</td>\n",
       "      <td>0.005609</td>\n",
       "      <td>0.536401</td>\n",
       "      <td>1</td>\n",
       "    </tr>\n",
       "    <tr>\n",
       "      <th>9665</th>\n",
       "      <td>5367</td>\n",
       "      <td>22</td>\n",
       "      <td>1167.84</td>\n",
       "      <td>6.68</td>\n",
       "      <td>330.03</td>\n",
       "      <td>Charlotte</td>\n",
       "      <td>Las Vegas</td>\n",
       "      <td>0.282599</td>\n",
       "      <td>0.005720</td>\n",
       "      <td>0.288319</td>\n",
       "      <td>1</td>\n",
       "    </tr>\n",
       "  </tbody>\n",
       "</table>\n",
       "</div>"
      ],
      "text/plain": [
       "      truckingcompanyid  productid  distanceinmiles  fuelcost  linehaulcost  \\\n",
       "412                4016          4          1167.84      5.28         93.46   \n",
       "1234               1328         19          1167.84      5.98         73.55   \n",
       "1796               1755         14          1167.84      5.65        292.61   \n",
       "2722               1001         21          1167.84      5.67        226.86   \n",
       "3103               6111          4          1167.84      6.71        137.91   \n",
       "3267               7561         22          1167.84      5.97        743.56   \n",
       "4008               2726         12          1167.84      4.99        160.42   \n",
       "4632               4417         20          1167.84      6.42        432.82   \n",
       "4800               4551         11          1167.84      6.67        403.63   \n",
       "5055               7550         11          1167.84      5.28        315.28   \n",
       "6424               9888         21          1167.84      6.44        873.48   \n",
       "6461               2160         15          1167.84      6.27        425.63   \n",
       "7361               9839         13          1167.84      4.18        322.02   \n",
       "8913               4928          9          1167.84      6.71       1042.41   \n",
       "9630               5505         19          1167.84      6.55        619.88   \n",
       "9665               5367         22          1167.84      6.68        330.03   \n",
       "\n",
       "         source destination  lhcpermile  fuelpermile  tot_cost  agg  \n",
       "412   Charlotte   Las Vegas    0.080028     0.004521  0.084549    1  \n",
       "1234  Charlotte   Las Vegas    0.062980     0.005121  0.068100    1  \n",
       "1796  Charlotte   Las Vegas    0.250557     0.004838  0.255395    1  \n",
       "2722  Charlotte   Las Vegas    0.194256     0.004855  0.199111    1  \n",
       "3103  Charlotte   Las Vegas    0.118090     0.005746  0.123835    1  \n",
       "3267  Charlotte   Las Vegas    0.636697     0.005112  0.641809    1  \n",
       "4008  Charlotte   Las Vegas    0.137365     0.004273  0.141638    1  \n",
       "4632  Charlotte   Las Vegas    0.370616     0.005497  0.376113    1  \n",
       "4800  Charlotte   Las Vegas    0.345621     0.005711  0.351332    1  \n",
       "5055  Charlotte   Las Vegas    0.269968     0.004521  0.274490    1  \n",
       "6424  Charlotte   Las Vegas    0.747945     0.005514  0.753459    1  \n",
       "6461  Charlotte   Las Vegas    0.364459     0.005369  0.369828    1  \n",
       "7361  Charlotte   Las Vegas    0.275740     0.003579  0.279319    1  \n",
       "8913  Charlotte   Las Vegas    0.892597     0.005746  0.898342    1  \n",
       "9630  Charlotte   Las Vegas    0.530792     0.005609  0.536401    1  \n",
       "9665  Charlotte   Las Vegas    0.282599     0.005720  0.288319    1  "
      ]
     },
     "execution_count": 341,
     "metadata": {},
     "output_type": "execute_result"
    }
   ],
   "source": [
    "df[(df.source==\"Charlotte\") & (df.destination==\"Las Vegas\")]"
   ]
  },
  {
   "cell_type": "markdown",
   "metadata": {},
   "source": [
    "## Modelling"
   ]
  },
  {
   "cell_type": "code",
   "execution_count": 402,
   "metadata": {},
   "outputs": [],
   "source": [
    "from sklearn.ensemble import AdaBoostRegressor,RandomForestRegressor,GradientBoostingRegressor\n",
    "from sklearn.kernel_ridge import KernelRidge\n",
    "from sklearn.linear_model import LinearRegression,RidgeCV,Lasso\n",
    "from sklearn.svm import SVR,LinearSVR\n",
    "from sklearn.metrics import mean_squared_error"
   ]
  },
  {
   "cell_type": "code",
   "execution_count": 403,
   "metadata": {},
   "outputs": [],
   "source": [
    "df.source=df.source.astype('category').cat.codes\n",
    "df.destination=df.destination.astype('category').cat.codes"
   ]
  },
  {
   "cell_type": "code",
   "execution_count": 429,
   "metadata": {},
   "outputs": [],
   "source": [
    "X=df.loc[:,df.columns != 'linehaulcost']\n",
    "y=df['linehaulcost']\n",
    "X_train,X_test,y_train,y_test=train_test_split(X,y,test_size=0.3)"
   ]
  },
  {
   "cell_type": "code",
   "execution_count": 353,
   "metadata": {},
   "outputs": [
    {
     "data": {
      "text/plain": [
       "AdaBoostRegressor(base_estimator=None, learning_rate=1.0, loss='linear',\n",
       "         n_estimators=100, random_state=None)"
      ]
     },
     "execution_count": 353,
     "metadata": {},
     "output_type": "execute_result"
    }
   ],
   "source": [
    "regr = AdaBoostRegressor(n_estimators=100)\n",
    "regr.fit(X_train, y_train)"
   ]
  },
  {
   "cell_type": "code",
   "execution_count": 354,
   "metadata": {},
   "outputs": [],
   "source": [
    "y_pred=regr.predict(X_test)"
   ]
  },
  {
   "cell_type": "code",
   "execution_count": 355,
   "metadata": {},
   "outputs": [],
   "source": [
    "residuals=y_test-y_pred"
   ]
  },
  {
   "cell_type": "code",
   "execution_count": 356,
   "metadata": {},
   "outputs": [
    {
     "data": {
      "text/plain": [
       "<AxesSubplot:>"
      ]
     },
     "execution_count": 356,
     "metadata": {},
     "output_type": "execute_result"
    },
    {
     "data": {
      "image/png": "[encoded data removed]",
      "text/plain": [
       "<Figure size 432x288 with 1 Axes>"
      ]
     },
     "metadata": {
      "needs_background": "light"
     },
     "output_type": "display_data"
    }
   ],
   "source": [
    "residuals.hist()"
   ]
  },
  {
   "cell_type": "code",
   "execution_count": 369,
   "metadata": {},
   "outputs": [
    {
     "data": {
      "text/plain": [
       "0.8956300447743082"
      ]
     },
     "execution_count": 369,
     "metadata": {},
     "output_type": "execute_result"
    }
   ],
   "source": [
    "regr.score(X_test, y_test)"
   ]
  },
  {
   "cell_type": "code",
   "execution_count": 359,
   "metadata": {},
   "outputs": [
    {
     "data": {
      "text/plain": [
       "(3086,)"
      ]
     },
     "execution_count": 359,
     "metadata": {},
     "output_type": "execute_result"
    }
   ],
   "source": [
    "y_test.shape"
   ]
  },
  {
   "cell_type": "code",
   "execution_count": 366,
   "metadata": {},
   "outputs": [
    {
     "data": {
      "text/plain": [
       "0       695.067037\n",
       "1       695.067037\n",
       "2       695.067037\n",
       "3       695.067037\n",
       "4       695.067037\n",
       "           ...    \n",
       "3081    695.067037\n",
       "3082    824.661613\n",
       "3083    807.826436\n",
       "3084    695.067037\n",
       "3085    695.067037\n",
       "Length: 3086, dtype: float64"
      ]
     },
     "execution_count": 366,
     "metadata": {},
     "output_type": "execute_result"
    }
   ],
   "source": [
    "pd.Series(y_pred)"
   ]
  },
  {
   "cell_type": "code",
   "execution_count": 364,
   "metadata": {},
   "outputs": [
    {
     "data": {
      "text/plain": [
       "7230     302.73\n",
       "652      289.57\n",
       "4396      50.62\n",
       "7310      36.95\n",
       "5724     355.20\n",
       "         ...   \n",
       "8618     156.87\n",
       "2631    1415.53\n",
       "9707     942.85\n",
       "9720     191.05\n",
       "1395      66.77\n",
       "Name: linehaulcost, Length: 3086, dtype: float64"
      ]
     },
     "execution_count": 364,
     "metadata": {},
     "output_type": "execute_result"
    }
   ],
   "source": [
    "y_test"
   ]
  },
  {
   "cell_type": "code",
   "execution_count": 395,
   "metadata": {},
   "outputs": [],
   "source": [
    "classifiers_1 = [\n",
    "    'LinearRegression',\n",
    "    'RidgeCV',\n",
    "    'KernelRidge',\n",
    "    'Lasso',\n",
    "    'RandomForestRegressor',\n",
    "    'GradientBoostingRegressor',\n",
    "    'AdaBoostRegressor',\n",
    "    'SVR', \n",
    "    'LinearSVR', \n",
    "    ]"
   ]
  },
  {
   "cell_type": "code",
   "execution_count": 391,
   "metadata": {},
   "outputs": [
    {
     "name": "stderr",
     "output_type": "stream",
     "text": [
      "C:\\Users\\pavan\\anaconda3\\lib\\site-packages\\sklearn\\linear_model\\ridge.py:167: UserWarning: Singular matrix in solving dual problem. Using least-squares solution instead.\n",
      "  warnings.warn(\"Singular matrix in solving dual problem. Using \"\n",
      "C:\\Users\\pavan\\anaconda3\\lib\\site-packages\\sklearn\\ensemble\\forest.py:246: FutureWarning: The default value of n_estimators will change from 10 in version 0.20 to 100 in 0.22.\n",
      "  \"10 in version 0.20 to 100 in 0.22.\", FutureWarning)\n",
      "C:\\Users\\pavan\\anaconda3\\lib\\site-packages\\sklearn\\svm\\base.py:196: FutureWarning: The default value of gamma will change from 'auto' to 'scale' in version 0.22 to account better for unscaled features. Set gamma explicitly to 'auto' or 'scale' to avoid this warning.\n",
      "  \"avoid this warning.\", FutureWarning)\n"
     ]
    },
    {
     "name": "stdout",
     "output_type": "stream",
     "text": [
      "Wall time: 2min 46s\n"
     ]
    },
    {
     "name": "stderr",
     "output_type": "stream",
     "text": [
      "C:\\Users\\pavan\\anaconda3\\lib\\site-packages\\sklearn\\svm\\base.py:931: ConvergenceWarning: Liblinear failed to converge, increase the number of iterations.\n",
      "  \"the number of iterations.\", ConvergenceWarning)\n"
     ]
    }
   ],
   "source": [
    "%%time\n",
    "classifiers = [\n",
    "    LinearRegression(),\n",
    "    RidgeCV(alphas=[1e-3, 1e-2, 1e-1, 1]),\n",
    "    KernelRidge(alpha=0.6, kernel='polynomial', degree=3, coef0=2.5),\n",
    "    Lasso(alpha =16, random_state=100),\n",
    "    RandomForestRegressor(),\n",
    "    GradientBoostingRegressor(),\n",
    "    AdaBoostRegressor(),\n",
    "    SVR(), \n",
    "    LinearSVR(), \n",
    "    ]\n",
    "\n",
    "name = []\n",
    "score = []\n",
    "models = []\n",
    "rmse = []\n",
    "regsr=[]\n",
    "i = 0\n",
    "for classifier in classifiers:\n",
    "    classifier.fit(X_train, y_train)   \n",
    "    name.append(classifiers_1[i] )\n",
    "    score.append(classifier.score(X_test, y_test))\n",
    "    models.append(classifier)\n",
    "    rmse.append(np.sqrt(mean_squared_error(classifier.predict(X_test), y_test)))\n",
    "    regsr.append(classifier.score(X_test, y_test))\n",
    "    i+=1"
   ]
  },
  {
   "cell_type": "code",
   "execution_count": 392,
   "metadata": {},
   "outputs": [],
   "source": [
    "scores=pd.DataFrame()"
   ]
  },
  {
   "cell_type": "code",
   "execution_count": 393,
   "metadata": {},
   "outputs": [],
   "source": [
    "scores['name']=name\n",
    "scores['score']=score\n",
    "scores['models']=models\n",
    "scores['regsr']=regsr\n",
    "scores['rmse']=rmse\n"
   ]
  },
  {
   "cell_type": "code",
   "execution_count": 394,
   "metadata": {},
   "outputs": [
    {
     "data": {
      "text/html": [
       "<div>\n",
       "<style scoped>\n",
       "    .dataframe tbody tr th:only-of-type {\n",
       "        vertical-align: middle;\n",
       "    }\n",
       "\n",
       "    .dataframe tbody tr th {\n",
       "        vertical-align: top;\n",
       "    }\n",
       "\n",
       "    .dataframe thead th {\n",
       "        text-align: right;\n",
       "    }\n",
       "</style>\n",
       "<table border=\"1\" class=\"dataframe\">\n",
       "  <thead>\n",
       "    <tr style=\"text-align: right;\">\n",
       "      <th></th>\n",
       "      <th>name</th>\n",
       "      <th>score</th>\n",
       "      <th>models</th>\n",
       "      <th>regsr</th>\n",
       "      <th>rmse</th>\n",
       "    </tr>\n",
       "  </thead>\n",
       "  <tbody>\n",
       "    <tr>\n",
       "      <th>0</th>\n",
       "      <td>&lt;class 'sklearn.linear_model.base.LinearRegres...</td>\n",
       "      <td>0.910229</td>\n",
       "      <td>LinearRegression(copy_X=True, fit_intercept=Tr...</td>\n",
       "      <td>0.910229</td>\n",
       "      <td>542.473097</td>\n",
       "    </tr>\n",
       "    <tr>\n",
       "      <th>1</th>\n",
       "      <td>&lt;class 'sklearn.linear_model.ridge.RidgeCV'&gt;</td>\n",
       "      <td>0.910225</td>\n",
       "      <td>RidgeCV(alphas=array([0.001, 0.01 , 0.1  , 1. ...</td>\n",
       "      <td>0.910225</td>\n",
       "      <td>542.486457</td>\n",
       "    </tr>\n",
       "    <tr>\n",
       "      <th>2</th>\n",
       "      <td>&lt;class 'sklearn.kernel_ridge.KernelRidge'&gt;</td>\n",
       "      <td>0.856343</td>\n",
       "      <td>KernelRidge(alpha=0.6, coef0=2.5, degree=3, ga...</td>\n",
       "      <td>0.856343</td>\n",
       "      <td>686.237933</td>\n",
       "    </tr>\n",
       "    <tr>\n",
       "      <th>3</th>\n",
       "      <td>&lt;class 'sklearn.linear_model.coordinate_descen...</td>\n",
       "      <td>0.908816</td>\n",
       "      <td>Lasso(alpha=16, copy_X=True, fit_intercept=Tru...</td>\n",
       "      <td>0.908816</td>\n",
       "      <td>546.727255</td>\n",
       "    </tr>\n",
       "    <tr>\n",
       "      <th>4</th>\n",
       "      <td>&lt;class 'sklearn.ensemble.forest.RandomForestRe...</td>\n",
       "      <td>0.981924</td>\n",
       "      <td>(DecisionTreeRegressor(criterion='mse', max_de...</td>\n",
       "      <td>0.981924</td>\n",
       "      <td>243.423187</td>\n",
       "    </tr>\n",
       "    <tr>\n",
       "      <th>5</th>\n",
       "      <td>&lt;class 'sklearn.ensemble.gradient_boosting.Gra...</td>\n",
       "      <td>0.992683</td>\n",
       "      <td>([DecisionTreeRegressor(criterion='friedman_ms...</td>\n",
       "      <td>0.992683</td>\n",
       "      <td>154.870121</td>\n",
       "    </tr>\n",
       "    <tr>\n",
       "      <th>6</th>\n",
       "      <td>&lt;class 'sklearn.ensemble.weight_boosting.AdaBo...</td>\n",
       "      <td>0.917918</td>\n",
       "      <td>(DecisionTreeRegressor(criterion='mse', max_de...</td>\n",
       "      <td>0.917918</td>\n",
       "      <td>518.720717</td>\n",
       "    </tr>\n",
       "    <tr>\n",
       "      <th>7</th>\n",
       "      <td>&lt;class 'sklearn.svm.classes.SVR'&gt;</td>\n",
       "      <td>-0.089116</td>\n",
       "      <td>SVR(C=1.0, cache_size=200, coef0=0.0, degree=3...</td>\n",
       "      <td>-0.089116</td>\n",
       "      <td>1889.504555</td>\n",
       "    </tr>\n",
       "    <tr>\n",
       "      <th>8</th>\n",
       "      <td>&lt;class 'sklearn.svm.classes.LinearSVR'&gt;</td>\n",
       "      <td>0.898905</td>\n",
       "      <td>LinearSVR(C=1.0, dual=True, epsilon=0.0, fit_i...</td>\n",
       "      <td>0.898905</td>\n",
       "      <td>575.671410</td>\n",
       "    </tr>\n",
       "  </tbody>\n",
       "</table>\n",
       "</div>"
      ],
      "text/plain": [
       "                                                name     score  \\\n",
       "0  <class 'sklearn.linear_model.base.LinearRegres...  0.910229   \n",
       "1       <class 'sklearn.linear_model.ridge.RidgeCV'>  0.910225   \n",
       "2         <class 'sklearn.kernel_ridge.KernelRidge'>  0.856343   \n",
       "3  <class 'sklearn.linear_model.coordinate_descen...  0.908816   \n",
       "4  <class 'sklearn.ensemble.forest.RandomForestRe...  0.981924   \n",
       "5  <class 'sklearn.ensemble.gradient_boosting.Gra...  0.992683   \n",
       "6  <class 'sklearn.ensemble.weight_boosting.AdaBo...  0.917918   \n",
       "7                  <class 'sklearn.svm.classes.SVR'> -0.089116   \n",
       "8            <class 'sklearn.svm.classes.LinearSVR'>  0.898905   \n",
       "\n",
       "                                              models     regsr         rmse  \n",
       "0  LinearRegression(copy_X=True, fit_intercept=Tr...  0.910229   542.473097  \n",
       "1  RidgeCV(alphas=array([0.001, 0.01 , 0.1  , 1. ...  0.910225   542.486457  \n",
       "2  KernelRidge(alpha=0.6, coef0=2.5, degree=3, ga...  0.856343   686.237933  \n",
       "3  Lasso(alpha=16, copy_X=True, fit_intercept=Tru...  0.908816   546.727255  \n",
       "4  (DecisionTreeRegressor(criterion='mse', max_de...  0.981924   243.423187  \n",
       "5  ([DecisionTreeRegressor(criterion='friedman_ms...  0.992683   154.870121  \n",
       "6  (DecisionTreeRegressor(criterion='mse', max_de...  0.917918   518.720717  \n",
       "7  SVR(C=1.0, cache_size=200, coef0=0.0, degree=3... -0.089116  1889.504555  \n",
       "8  LinearSVR(C=1.0, dual=True, epsilon=0.0, fit_i...  0.898905   575.671410  "
      ]
     },
     "execution_count": 394,
     "metadata": {},
     "output_type": "execute_result"
    }
   ],
   "source": [
    "scores"
   ]
  },
  {
   "cell_type": "code",
   "execution_count": 390,
   "metadata": {},
   "outputs": [
    {
     "data": {
      "text/html": [
       "<div>\n",
       "<style scoped>\n",
       "    .dataframe tbody tr th:only-of-type {\n",
       "        vertical-align: middle;\n",
       "    }\n",
       "\n",
       "    .dataframe tbody tr th {\n",
       "        vertical-align: top;\n",
       "    }\n",
       "\n",
       "    .dataframe thead th {\n",
       "        text-align: right;\n",
       "    }\n",
       "</style>\n",
       "<table border=\"1\" class=\"dataframe\">\n",
       "  <thead>\n",
       "    <tr style=\"text-align: right;\">\n",
       "      <th></th>\n",
       "      <th>name</th>\n",
       "      <th>score</th>\n",
       "      <th>models</th>\n",
       "      <th>rmse</th>\n",
       "    </tr>\n",
       "  </thead>\n",
       "  <tbody>\n",
       "    <tr>\n",
       "      <th>0</th>\n",
       "      <td>&lt;class 'sklearn.linear_model.base.LinearRegres...</td>\n",
       "      <td>0.910229</td>\n",
       "      <td>LinearRegression(copy_X=True, fit_intercept=Tr...</td>\n",
       "      <td>542.473097</td>\n",
       "    </tr>\n",
       "    <tr>\n",
       "      <th>1</th>\n",
       "      <td>&lt;class 'sklearn.linear_model.ridge.RidgeCV'&gt;</td>\n",
       "      <td>0.910225</td>\n",
       "      <td>RidgeCV(alphas=array([0.001, 0.01 , 0.1  , 1. ...</td>\n",
       "      <td>542.486457</td>\n",
       "    </tr>\n",
       "    <tr>\n",
       "      <th>2</th>\n",
       "      <td>&lt;class 'sklearn.kernel_ridge.KernelRidge'&gt;</td>\n",
       "      <td>0.856343</td>\n",
       "      <td>KernelRidge(alpha=0.6, coef0=2.5, degree=3, ga...</td>\n",
       "      <td>686.237933</td>\n",
       "    </tr>\n",
       "    <tr>\n",
       "      <th>3</th>\n",
       "      <td>&lt;class 'sklearn.linear_model.coordinate_descen...</td>\n",
       "      <td>0.908816</td>\n",
       "      <td>Lasso(alpha=16, copy_X=True, fit_intercept=Tru...</td>\n",
       "      <td>546.727255</td>\n",
       "    </tr>\n",
       "    <tr>\n",
       "      <th>4</th>\n",
       "      <td>&lt;class 'sklearn.ensemble.forest.RandomForestRe...</td>\n",
       "      <td>0.984510</td>\n",
       "      <td>(DecisionTreeRegressor(criterion='mse', max_de...</td>\n",
       "      <td>225.342078</td>\n",
       "    </tr>\n",
       "    <tr>\n",
       "      <th>5</th>\n",
       "      <td>&lt;class 'sklearn.ensemble.gradient_boosting.Gra...</td>\n",
       "      <td>0.992704</td>\n",
       "      <td>([DecisionTreeRegressor(criterion='friedman_ms...</td>\n",
       "      <td>154.656206</td>\n",
       "    </tr>\n",
       "    <tr>\n",
       "      <th>6</th>\n",
       "      <td>&lt;class 'sklearn.ensemble.weight_boosting.AdaBo...</td>\n",
       "      <td>0.905638</td>\n",
       "      <td>(DecisionTreeRegressor(criterion='mse', max_de...</td>\n",
       "      <td>556.171920</td>\n",
       "    </tr>\n",
       "    <tr>\n",
       "      <th>7</th>\n",
       "      <td>&lt;class 'sklearn.svm.classes.SVR'&gt;</td>\n",
       "      <td>-0.089116</td>\n",
       "      <td>SVR(C=1.0, cache_size=200, coef0=0.0, degree=3...</td>\n",
       "      <td>1889.504555</td>\n",
       "    </tr>\n",
       "    <tr>\n",
       "      <th>8</th>\n",
       "      <td>&lt;class 'sklearn.svm.classes.LinearSVR'&gt;</td>\n",
       "      <td>0.897266</td>\n",
       "      <td>LinearSVR(C=1.0, dual=True, epsilon=0.0, fit_i...</td>\n",
       "      <td>580.320816</td>\n",
       "    </tr>\n",
       "  </tbody>\n",
       "</table>\n",
       "</div>"
      ],
      "text/plain": [
       "                                                name     score  \\\n",
       "0  <class 'sklearn.linear_model.base.LinearRegres...  0.910229   \n",
       "1       <class 'sklearn.linear_model.ridge.RidgeCV'>  0.910225   \n",
       "2         <class 'sklearn.kernel_ridge.KernelRidge'>  0.856343   \n",
       "3  <class 'sklearn.linear_model.coordinate_descen...  0.908816   \n",
       "4  <class 'sklearn.ensemble.forest.RandomForestRe...  0.984510   \n",
       "5  <class 'sklearn.ensemble.gradient_boosting.Gra...  0.992704   \n",
       "6  <class 'sklearn.ensemble.weight_boosting.AdaBo...  0.905638   \n",
       "7                  <class 'sklearn.svm.classes.SVR'> -0.089116   \n",
       "8            <class 'sklearn.svm.classes.LinearSVR'>  0.897266   \n",
       "\n",
       "                                              models         rmse  \n",
       "0  LinearRegression(copy_X=True, fit_intercept=Tr...   542.473097  \n",
       "1  RidgeCV(alphas=array([0.001, 0.01 , 0.1  , 1. ...   542.486457  \n",
       "2  KernelRidge(alpha=0.6, coef0=2.5, degree=3, ga...   686.237933  \n",
       "3  Lasso(alpha=16, copy_X=True, fit_intercept=Tru...   546.727255  \n",
       "4  (DecisionTreeRegressor(criterion='mse', max_de...   225.342078  \n",
       "5  ([DecisionTreeRegressor(criterion='friedman_ms...   154.656206  \n",
       "6  (DecisionTreeRegressor(criterion='mse', max_de...   556.171920  \n",
       "7  SVR(C=1.0, cache_size=200, coef0=0.0, degree=3...  1889.504555  \n",
       "8  LinearSVR(C=1.0, dual=True, epsilon=0.0, fit_i...   580.320816  "
      ]
     },
     "execution_count": 390,
     "metadata": {},
     "output_type": "execute_result"
    }
   ],
   "source": [
    "scores"
   ]
  },
  {
   "cell_type": "code",
   "execution_count": 396,
   "metadata": {},
   "outputs": [],
   "source": [
    "from sklearn.preprocessing import PolynomialFeatures"
   ]
  },
  {
   "cell_type": "code",
   "execution_count": 397,
   "metadata": {},
   "outputs": [],
   "source": [
    "from sklearn.pipeline import Pipeline"
   ]
  },
  {
   "cell_type": "code",
   "execution_count": 446,
   "metadata": {},
   "outputs": [],
   "source": [
    "model = Pipeline([('poly', PolynomialFeatures(degree=4)),('linear', LinearRegression(fit_intercept=False))])\n",
    "# fit to an order-3 polynomial data\n",
    "model = model.fit(X.loc[0:5000,:], y.loc[0:5000])"
   ]
  },
  {
   "cell_type": "code",
   "execution_count": 447,
   "metadata": {},
   "outputs": [
    {
     "data": {
      "text/plain": [
       "0.9726652299872074"
      ]
     },
     "execution_count": 447,
     "metadata": {},
     "output_type": "execute_result"
    }
   ],
   "source": [
    "model.score(X.iloc[5001:,:], y[5001:])"
   ]
  },
  {
   "cell_type": "code",
   "execution_count": 448,
   "metadata": {},
   "outputs": [
    {
     "data": {
      "text/plain": [
       "array([2052.74964727, 3390.83555102,  208.79985434, ..., 4751.39451762,\n",
       "         28.65316971,  550.33276083])"
      ]
     },
     "execution_count": 448,
     "metadata": {},
     "output_type": "execute_result"
    }
   ],
   "source": [
    "model.predict(X_test)"
   ]
  },
  {
   "cell_type": "code",
   "execution_count": 449,
   "metadata": {},
   "outputs": [
    {
     "data": {
      "text/plain": [
       "4154    2065.10\n",
       "8607    3416.69\n",
       "7602     192.22\n",
       "1352     159.18\n",
       "8266     213.83\n",
       "         ...   \n",
       "7965     610.66\n",
       "7685    6668.21\n",
       "266     4822.71\n",
       "3278      81.13\n",
       "581      524.49\n",
       "Name: linehaulcost, Length: 3086, dtype: float64"
      ]
     },
     "execution_count": 449,
     "metadata": {},
     "output_type": "execute_result"
    }
   ],
   "source": [
    "y_test"
   ]
  },
  {
   "cell_type": "code",
   "execution_count": null,
   "metadata": {},
   "outputs": [],
   "source": []
  }
 ],
 "metadata": {
  "kernelspec": {
   "display_name": "Python 3",
   "language": "python",
   "name": "python3"
  },
  "language_info": {
   "codemirror_mode": {
    "name": "ipython",
    "version": 3
   },
   "file_extension": ".py",
   "mimetype": "text/x-python",
   "name": "python",
   "nbconvert_exporter": "python",
   "pygments_lexer": "ipython3",
   "version": "3.7.6"
  }
 },
 "nbformat": 4,
 "nbformat_minor": 4
}
