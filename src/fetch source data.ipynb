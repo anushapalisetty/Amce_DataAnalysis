{
 "cells": [
  {
   "cell_type": "code",
   "execution_count": 1,
   "metadata": {},
   "outputs": [],
   "source": [
    "import pandas as pd\n",
    "import numpy as np\n",
    "from data_stats import summary_stats\n",
    "from scipy.stats import ks_2samp,f_oneway,kruskal\n",
    "import scipy.stats as stats"
   ]
  },
  {
   "cell_type": "code",
   "execution_count": 2,
   "metadata": {},
   "outputs": [
    {
     "name": "stdout",
     "output_type": "stream",
     "text": [
      "Shape Of DataFrame is:  (10286, 7)\n",
      "\n",
      " Datatype of each object:\n",
      " truckingcompanyid      int64\n",
      "productid              int64\n",
      "distanceinmiles      float64\n",
      "fuelcost             float64\n",
      "linehaulcost         float64\n",
      "source                object\n",
      "destination           object\n",
      "dtype: object\n"
     ]
    }
   ],
   "source": [
    "if __name__==\"__main__\":\n",
    "    summ_stat=summary_stats()\n",
    "    \n",
    "    ## Read csv file\n",
    "    df=pd.read_csv('../data/nbl_eval.csv')\n",
    "    print('Shape Of DataFrame is: ',df.shape)\n",
    "    print(\"\\n Datatype of each object:\\n\", df.dtypes)\n",
    "    \n",
    "    ## Extract Numeric and Categorical data\n",
    "    df_quan,df_cat=summ_stat.extract_num_cat(df)"
   ]
  },
  {
   "cell_type": "markdown",
   "metadata": {},
   "source": [
    "##### Numeric:"
   ]
  },
  {
   "cell_type": "code",
   "execution_count": 3,
   "metadata": {},
   "outputs": [
    {
     "data": {
      "text/html": [
       "<div>\n",
       "<style scoped>\n",
       "    .dataframe tbody tr th:only-of-type {\n",
       "        vertical-align: middle;\n",
       "    }\n",
       "\n",
       "    .dataframe tbody tr th {\n",
       "        vertical-align: top;\n",
       "    }\n",
       "\n",
       "    .dataframe thead th {\n",
       "        text-align: right;\n",
       "    }\n",
       "</style>\n",
       "<table border=\"1\" class=\"dataframe\">\n",
       "  <thead>\n",
       "    <tr style=\"text-align: right;\">\n",
       "      <th></th>\n",
       "      <th>Count</th>\n",
       "      <th>% Miss.</th>\n",
       "      <th>Card.</th>\n",
       "      <th>Min</th>\n",
       "      <th>1st Qrt.</th>\n",
       "      <th>Mean</th>\n",
       "      <th>Median</th>\n",
       "      <th>3rd Qrt.</th>\n",
       "      <th>Max</th>\n",
       "      <th>Std. Dev.</th>\n",
       "    </tr>\n",
       "  </thead>\n",
       "  <tbody>\n",
       "    <tr>\n",
       "      <th>distanceinmiles</th>\n",
       "      <td>10286.0</td>\n",
       "      <td>0.0</td>\n",
       "      <td>48</td>\n",
       "      <td>97.32</td>\n",
       "      <td>681.2400</td>\n",
       "      <td>1616.187544</td>\n",
       "      <td>1459.800</td>\n",
       "      <td>2433.0000</td>\n",
       "      <td>4671.36</td>\n",
       "      <td>1109.212772</td>\n",
       "    </tr>\n",
       "    <tr>\n",
       "      <th>fuelcost</th>\n",
       "      <td>10286.0</td>\n",
       "      <td>0.0</td>\n",
       "      <td>574</td>\n",
       "      <td>2.15</td>\n",
       "      <td>4.8500</td>\n",
       "      <td>5.499473</td>\n",
       "      <td>5.500</td>\n",
       "      <td>6.1600</td>\n",
       "      <td>9.55</td>\n",
       "      <td>0.987558</td>\n",
       "    </tr>\n",
       "    <tr>\n",
       "      <th>linehaulcost</th>\n",
       "      <td>10286.0</td>\n",
       "      <td>0.0</td>\n",
       "      <td>9766</td>\n",
       "      <td>7.49</td>\n",
       "      <td>150.4025</td>\n",
       "      <td>830.179412</td>\n",
       "      <td>326.135</td>\n",
       "      <td>771.7375</td>\n",
       "      <td>34845.53</td>\n",
       "      <td>1696.541911</td>\n",
       "    </tr>\n",
       "  </tbody>\n",
       "</table>\n",
       "</div>"
      ],
      "text/plain": [
       "                   Count  % Miss.  Card.    Min  1st Qrt.         Mean  \\\n",
       "distanceinmiles  10286.0      0.0     48  97.32  681.2400  1616.187544   \n",
       "fuelcost         10286.0      0.0    574   2.15    4.8500     5.499473   \n",
       "linehaulcost     10286.0      0.0   9766   7.49  150.4025   830.179412   \n",
       "\n",
       "                   Median   3rd Qrt.       Max    Std. Dev.  \n",
       "distanceinmiles  1459.800  2433.0000   4671.36  1109.212772  \n",
       "fuelcost            5.500     6.1600      9.55     0.987558  \n",
       "linehaulcost      326.135   771.7375  34845.53  1696.541911  "
      ]
     },
     "execution_count": 3,
     "metadata": {},
     "output_type": "execute_result"
    }
   ],
   "source": [
    "df_quan_total=summ_stat.summary_quan(df_quan)\n",
    "summ_stat.summary_quan(df_quan)"
   ]
  },
  {
   "cell_type": "markdown",
   "metadata": {},
   "source": [
    "#### Categorical:"
   ]
  },
  {
   "cell_type": "code",
   "execution_count": 4,
   "metadata": {},
   "outputs": [
    {
     "data": {
      "text/html": [
       "<div>\n",
       "<style scoped>\n",
       "    .dataframe tbody tr th:only-of-type {\n",
       "        vertical-align: middle;\n",
       "    }\n",
       "\n",
       "    .dataframe tbody tr th {\n",
       "        vertical-align: top;\n",
       "    }\n",
       "\n",
       "    .dataframe thead th {\n",
       "        text-align: right;\n",
       "    }\n",
       "</style>\n",
       "<table border=\"1\" class=\"dataframe\">\n",
       "  <thead>\n",
       "    <tr style=\"text-align: right;\">\n",
       "      <th></th>\n",
       "      <th>Count</th>\n",
       "      <th>% Miss.</th>\n",
       "      <th>Card.</th>\n",
       "      <th>Mode</th>\n",
       "      <th>Mode Freq.</th>\n",
       "      <th>Mode %</th>\n",
       "      <th>2nd Mode</th>\n",
       "      <th>2nd Mode Freq.</th>\n",
       "      <th>2nd Mode %</th>\n",
       "    </tr>\n",
       "  </thead>\n",
       "  <tbody>\n",
       "    <tr>\n",
       "      <th>truckingcompanyid</th>\n",
       "      <td>10286</td>\n",
       "      <td>0</td>\n",
       "      <td>6153</td>\n",
       "      <td>5367</td>\n",
       "      <td>8</td>\n",
       "      <td>0.0777756</td>\n",
       "      <td>4835</td>\n",
       "      <td>7.0</td>\n",
       "      <td>0.0680537</td>\n",
       "    </tr>\n",
       "    <tr>\n",
       "      <th>productid</th>\n",
       "      <td>10286</td>\n",
       "      <td>0</td>\n",
       "      <td>24</td>\n",
       "      <td>4</td>\n",
       "      <td>464</td>\n",
       "      <td>4.51099</td>\n",
       "      <td>20</td>\n",
       "      <td>461.0</td>\n",
       "      <td>4.48182</td>\n",
       "    </tr>\n",
       "    <tr>\n",
       "      <th>source</th>\n",
       "      <td>10286</td>\n",
       "      <td>0</td>\n",
       "      <td>49</td>\n",
       "      <td>Phoenix</td>\n",
       "      <td>242</td>\n",
       "      <td>2.35271</td>\n",
       "      <td>Miami</td>\n",
       "      <td>237.0</td>\n",
       "      <td>2.3041</td>\n",
       "    </tr>\n",
       "    <tr>\n",
       "      <th>destination</th>\n",
       "      <td>10286</td>\n",
       "      <td>0</td>\n",
       "      <td>49</td>\n",
       "      <td>New Orleans</td>\n",
       "      <td>262</td>\n",
       "      <td>2.54715</td>\n",
       "      <td>Las Vegas</td>\n",
       "      <td>249.0</td>\n",
       "      <td>2.42077</td>\n",
       "    </tr>\n",
       "  </tbody>\n",
       "</table>\n",
       "</div>"
      ],
      "text/plain": [
       "                   Count % Miss. Card.         Mode Mode Freq.     Mode %  \\\n",
       "truckingcompanyid  10286       0  6153         5367          8  0.0777756   \n",
       "productid          10286       0    24            4        464    4.51099   \n",
       "source             10286       0    49      Phoenix        242    2.35271   \n",
       "destination        10286       0    49  New Orleans        262    2.54715   \n",
       "\n",
       "                    2nd Mode  2nd Mode Freq. 2nd Mode %  \n",
       "truckingcompanyid       4835             7.0  0.0680537  \n",
       "productid                 20           461.0    4.48182  \n",
       "source                 Miami           237.0     2.3041  \n",
       "destination        Las Vegas           249.0    2.42077  "
      ]
     },
     "execution_count": 4,
     "metadata": {},
     "output_type": "execute_result"
    }
   ],
   "source": [
    "summ_stat.summary_cat(df_cat)"
   ]
  },
  {
   "cell_type": "markdown",
   "metadata": {},
   "source": [
    "## Sampling"
   ]
  },
  {
   "cell_type": "code",
   "execution_count": 5,
   "metadata": {},
   "outputs": [],
   "source": [
    "sample_size=[500,1000,2500,5000,7000]\n",
    "df_mean_err,df_std_err=summ_stat.calc_diff_orig_sample(df,sample_size,30)"
   ]
  },
  {
   "cell_type": "code",
   "execution_count": 6,
   "metadata": {},
   "outputs": [
    {
     "data": {
      "text/html": [
       "<div>\n",
       "<style scoped>\n",
       "    .dataframe tbody tr th:only-of-type {\n",
       "        vertical-align: middle;\n",
       "    }\n",
       "\n",
       "    .dataframe tbody tr th {\n",
       "        vertical-align: top;\n",
       "    }\n",
       "\n",
       "    .dataframe thead th {\n",
       "        text-align: right;\n",
       "    }\n",
       "</style>\n",
       "<table border=\"1\" class=\"dataframe\">\n",
       "  <thead>\n",
       "    <tr style=\"text-align: right;\">\n",
       "      <th></th>\n",
       "      <th>Orig_Mean</th>\n",
       "      <th>Mean_Err_500</th>\n",
       "      <th>Mean_Err_1000</th>\n",
       "      <th>Mean_Err_2500</th>\n",
       "      <th>Mean_Err_5000</th>\n",
       "      <th>Mean_Err_7000</th>\n",
       "    </tr>\n",
       "  </thead>\n",
       "  <tbody>\n",
       "    <tr>\n",
       "      <th>distanceinmiles</th>\n",
       "      <td>1616.187544</td>\n",
       "      <td>-9.990728</td>\n",
       "      <td>-9.737696</td>\n",
       "      <td>0.011173</td>\n",
       "      <td>1.563751</td>\n",
       "      <td>-2.030415</td>\n",
       "    </tr>\n",
       "    <tr>\n",
       "      <th>fuelcost</th>\n",
       "      <td>5.499473</td>\n",
       "      <td>0.000430</td>\n",
       "      <td>0.000583</td>\n",
       "      <td>0.000994</td>\n",
       "      <td>-0.000112</td>\n",
       "      <td>0.000954</td>\n",
       "    </tr>\n",
       "    <tr>\n",
       "      <th>linehaulcost</th>\n",
       "      <td>830.179412</td>\n",
       "      <td>-9.022370</td>\n",
       "      <td>7.879758</td>\n",
       "      <td>7.987509</td>\n",
       "      <td>-2.649026</td>\n",
       "      <td>4.500585</td>\n",
       "    </tr>\n",
       "  </tbody>\n",
       "</table>\n",
       "</div>"
      ],
      "text/plain": [
       "                   Orig_Mean  Mean_Err_500  Mean_Err_1000  Mean_Err_2500  \\\n",
       "distanceinmiles  1616.187544     -9.990728      -9.737696       0.011173   \n",
       "fuelcost            5.499473      0.000430       0.000583       0.000994   \n",
       "linehaulcost      830.179412     -9.022370       7.879758       7.987509   \n",
       "\n",
       "                 Mean_Err_5000  Mean_Err_7000  \n",
       "distanceinmiles       1.563751      -2.030415  \n",
       "fuelcost             -0.000112       0.000954  \n",
       "linehaulcost         -2.649026       4.500585  "
      ]
     },
     "execution_count": 6,
     "metadata": {},
     "output_type": "execute_result"
    }
   ],
   "source": [
    "df_mean_err"
   ]
  },
  {
   "cell_type": "code",
   "execution_count": 7,
   "metadata": {},
   "outputs": [
    {
     "data": {
      "text/html": [
       "<div>\n",
       "<style scoped>\n",
       "    .dataframe tbody tr th:only-of-type {\n",
       "        vertical-align: middle;\n",
       "    }\n",
       "\n",
       "    .dataframe tbody tr th {\n",
       "        vertical-align: top;\n",
       "    }\n",
       "\n",
       "    .dataframe thead th {\n",
       "        text-align: right;\n",
       "    }\n",
       "</style>\n",
       "<table border=\"1\" class=\"dataframe\">\n",
       "  <thead>\n",
       "    <tr style=\"text-align: right;\">\n",
       "      <th></th>\n",
       "      <th>Orig_StdDev</th>\n",
       "      <th>Std_Dev_Err500</th>\n",
       "      <th>Std_Dev_Err1000</th>\n",
       "      <th>Std_Dev_Err2500</th>\n",
       "      <th>Std_Dev_Err5000</th>\n",
       "      <th>Std_Dev_Err7000</th>\n",
       "    </tr>\n",
       "  </thead>\n",
       "  <tbody>\n",
       "    <tr>\n",
       "      <th>distanceinmiles</th>\n",
       "      <td>1109.212772</td>\n",
       "      <td>-1.676786</td>\n",
       "      <td>2.596115</td>\n",
       "      <td>3.304370</td>\n",
       "      <td>0.239005</td>\n",
       "      <td>0.279543</td>\n",
       "    </tr>\n",
       "    <tr>\n",
       "      <th>fuelcost</th>\n",
       "      <td>0.987558</td>\n",
       "      <td>0.008273</td>\n",
       "      <td>0.001225</td>\n",
       "      <td>0.001186</td>\n",
       "      <td>0.000029</td>\n",
       "      <td>0.000076</td>\n",
       "    </tr>\n",
       "    <tr>\n",
       "      <th>linehaulcost</th>\n",
       "      <td>1696.541911</td>\n",
       "      <td>53.567606</td>\n",
       "      <td>36.875275</td>\n",
       "      <td>14.123808</td>\n",
       "      <td>10.410023</td>\n",
       "      <td>6.639166</td>\n",
       "    </tr>\n",
       "  </tbody>\n",
       "</table>\n",
       "</div>"
      ],
      "text/plain": [
       "                 Orig_StdDev  Std_Dev_Err500  Std_Dev_Err1000  \\\n",
       "distanceinmiles  1109.212772       -1.676786         2.596115   \n",
       "fuelcost            0.987558        0.008273         0.001225   \n",
       "linehaulcost     1696.541911       53.567606        36.875275   \n",
       "\n",
       "                 Std_Dev_Err2500  Std_Dev_Err5000  Std_Dev_Err7000  \n",
       "distanceinmiles         3.304370         0.239005         0.279543  \n",
       "fuelcost                0.001186         0.000029         0.000076  \n",
       "linehaulcost           14.123808        10.410023         6.639166  "
      ]
     },
     "execution_count": 7,
     "metadata": {},
     "output_type": "execute_result"
    }
   ],
   "source": [
    "df_std_err"
   ]
  },
  {
   "cell_type": "markdown",
   "metadata": {},
   "source": [
    "### Kolmogorov-Smirnov (K-S) Test:"
   ]
  },
  {
   "cell_type": "code",
   "execution_count": 8,
   "metadata": {},
   "outputs": [
    {
     "data": {
      "text/plain": [
       "KstestResult(statistic=0.006091330796366756, pvalue=0.997605769962016)"
      ]
     },
     "execution_count": 8,
     "metadata": {},
     "output_type": "execute_result"
    }
   ],
   "source": [
    "df_1=df.sample(7000)\n",
    "ks_2samp(df.distanceinmiles, df_1.distanceinmiles)\n",
    "ks_2samp(df.fuelcost, df_1.fuelcost)\n",
    "ks_2samp(df.linehaulcost, df_1.linehaulcost)"
   ]
  },
  {
   "cell_type": "code",
   "execution_count": 9,
   "metadata": {},
   "outputs": [],
   "source": [
    "def ks_test(df,df_sample,col_name):\n",
    "    ks_stat=ks_2samp(df[col_name], df_sample[col_name]).statistic\n",
    "    ks_pval=ks_2samp(df[col_name], df_sample[col_name]).pvalue\n",
    "    return ks_stat, ks_pval\n",
    "    "
   ]
  },
  {
   "cell_type": "code",
   "execution_count": 10,
   "metadata": {},
   "outputs": [],
   "source": [
    "ks_stat=[]\n",
    "ks_pval=[]\n",
    "columns=[\"distanceinmiles\",\"fuelcost\",\"linehaulcost\"]\n",
    "for i in columns:\n",
    "    ks_stat.append(ks_test(df,df_1,i)[0])\n",
    "    ks_pval.append(ks_test(df,df_1,i)[1])"
   ]
  },
  {
   "cell_type": "code",
   "execution_count": 11,
   "metadata": {},
   "outputs": [],
   "source": [
    "ks_test_df=pd.DataFrame([ks_stat,ks_pval],index=[\"KS-Stat\",\"P-Value\"],columns=columns).transpose()"
   ]
  },
  {
   "cell_type": "code",
   "execution_count": 12,
   "metadata": {},
   "outputs": [
    {
     "data": {
      "text/html": [
       "<div>\n",
       "<style scoped>\n",
       "    .dataframe tbody tr th:only-of-type {\n",
       "        vertical-align: middle;\n",
       "    }\n",
       "\n",
       "    .dataframe tbody tr th {\n",
       "        vertical-align: top;\n",
       "    }\n",
       "\n",
       "    .dataframe thead th {\n",
       "        text-align: right;\n",
       "    }\n",
       "</style>\n",
       "<table border=\"1\" class=\"dataframe\">\n",
       "  <thead>\n",
       "    <tr style=\"text-align: right;\">\n",
       "      <th></th>\n",
       "      <th>KS-Stat</th>\n",
       "      <th>P-Value</th>\n",
       "    </tr>\n",
       "  </thead>\n",
       "  <tbody>\n",
       "    <tr>\n",
       "      <th>distanceinmiles</th>\n",
       "      <td>0.003472</td>\n",
       "      <td>1.000000</td>\n",
       "    </tr>\n",
       "    <tr>\n",
       "      <th>fuelcost</th>\n",
       "      <td>0.004233</td>\n",
       "      <td>0.999999</td>\n",
       "    </tr>\n",
       "    <tr>\n",
       "      <th>linehaulcost</th>\n",
       "      <td>0.006091</td>\n",
       "      <td>0.997606</td>\n",
       "    </tr>\n",
       "  </tbody>\n",
       "</table>\n",
       "</div>"
      ],
      "text/plain": [
       "                  KS-Stat   P-Value\n",
       "distanceinmiles  0.003472  1.000000\n",
       "fuelcost         0.004233  0.999999\n",
       "linehaulcost     0.006091  0.997606"
      ]
     },
     "execution_count": 12,
     "metadata": {},
     "output_type": "execute_result"
    }
   ],
   "source": [
    "ks_test_df"
   ]
  },
  {
   "cell_type": "markdown",
   "metadata": {},
   "source": [
    "## Split Training and Test Data"
   ]
  },
  {
   "cell_type": "code",
   "execution_count": 13,
   "metadata": {},
   "outputs": [],
   "source": [
    "train_idx=df.sample(7000).index\n",
    "test_idx=df[~df.index.isin(train_idx)].index\n",
    "train_data=df.iloc[train_idx,:]\n",
    "test_data=df.iloc[test_idx,:]"
   ]
  },
  {
   "cell_type": "code",
   "execution_count": 14,
   "metadata": {},
   "outputs": [],
   "source": [
    "train_data.to_csv(\"../data/training_data.csv\",index=False)\n",
    "test_data.to_csv(\"../data/test_data.csv\",index=False)"
   ]
  },
  {
   "cell_type": "code",
   "execution_count": null,
   "metadata": {},
   "outputs": [],
   "source": []
  }
 ],
 "metadata": {
  "kernelspec": {
   "display_name": "Python 3",
   "language": "python",
   "name": "python3"
  },
  "language_info": {
   "codemirror_mode": {
    "name": "ipython",
    "version": 3
   },
   "file_extension": ".py",
   "mimetype": "text/x-python",
   "name": "python",
   "nbconvert_exporter": "python",
   "pygments_lexer": "ipython3",
   "version": "3.7.6"
  }
 },
 "nbformat": 4,
 "nbformat_minor": 4
}
